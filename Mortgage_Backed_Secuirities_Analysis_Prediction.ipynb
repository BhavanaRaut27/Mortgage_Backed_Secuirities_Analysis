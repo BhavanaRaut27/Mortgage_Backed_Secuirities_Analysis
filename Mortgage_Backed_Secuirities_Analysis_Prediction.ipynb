{
 "cells": [
  {
   "cell_type": "markdown",
   "metadata": {
    "id": "8CZmc2uGp4WD"
   },
   "source": [
    "# Predicting Mortgage Backed Securities Prepayment Risk Prediction "
   ]
  },
  {
   "cell_type": "markdown",
   "metadata": {
    "id": "HdZk8iLvp4WH"
   },
   "source": [
    "## Importing Data"
   ]
  },
  {
   "cell_type": "code",
   "execution_count": 6,
   "metadata": {
    "id": "YgW8ER9R6G7_"
   },
   "outputs": [],
   "source": [
    "import pandas as pd \n",
    "import numpy as np \n",
    "import matplotlib.pyplot as plt\n",
    "import seaborn as sns \n",
    "from sklearn import preprocessing\n",
    "from sklearn.preprocessing import OneHotEncoder"
   ]
  },
  {
   "cell_type": "code",
   "execution_count": 8,
   "metadata": {
    "colab": {
     "base_uri": "https://localhost:8080/",
     "height": 839
    },
    "id": "wzEw2aAp7_hD",
    "outputId": "c8b41e7d-2cc5-40fa-f0dc-cdfa1e1e3991"
   },
   "outputs": [
    {
     "name": "stderr",
     "output_type": "stream",
     "text": [
      "C:\\ProgramData\\Anaconda3\\lib\\site-packages\\IPython\\core\\interactiveshell.py:3165: DtypeWarning: Columns (18) have mixed types.Specify dtype option on import or set low_memory=False.\n",
      "  has_raised = await self.run_ast_nodes(code_ast.body, cell_name,\n"
     ]
    },
    {
     "data": {
      "text/html": [
       "<div>\n",
       "<style scoped>\n",
       "    .dataframe tbody tr th:only-of-type {\n",
       "        vertical-align: middle;\n",
       "    }\n",
       "\n",
       "    .dataframe tbody tr th {\n",
       "        vertical-align: top;\n",
       "    }\n",
       "\n",
       "    .dataframe thead th {\n",
       "        text-align: right;\n",
       "    }\n",
       "</style>\n",
       "<table border=\"1\" class=\"dataframe\">\n",
       "  <thead>\n",
       "    <tr style=\"text-align: right;\">\n",
       "      <th></th>\n",
       "      <th>CreditScore</th>\n",
       "      <th>FirstPaymentDate</th>\n",
       "      <th>FirstTimeHomebuyer</th>\n",
       "      <th>MaturityDate</th>\n",
       "      <th>MSA</th>\n",
       "      <th>MIP</th>\n",
       "      <th>Units</th>\n",
       "      <th>Occupancy</th>\n",
       "      <th>OCLTV</th>\n",
       "      <th>DTI</th>\n",
       "      <th>...</th>\n",
       "      <th>PostalCode</th>\n",
       "      <th>LoanSeqNum</th>\n",
       "      <th>LoanPurpose</th>\n",
       "      <th>OrigLoanTerm</th>\n",
       "      <th>NumBorrowers</th>\n",
       "      <th>SellerName</th>\n",
       "      <th>ServicerName</th>\n",
       "      <th>EverDelinquent</th>\n",
       "      <th>MonthsDelinquent</th>\n",
       "      <th>MonthsInRepayment</th>\n",
       "    </tr>\n",
       "  </thead>\n",
       "  <tbody>\n",
       "    <tr>\n",
       "      <th>0</th>\n",
       "      <td>0</td>\n",
       "      <td>199902</td>\n",
       "      <td>N</td>\n",
       "      <td>202901</td>\n",
       "      <td>16974</td>\n",
       "      <td>25</td>\n",
       "      <td>1</td>\n",
       "      <td>O</td>\n",
       "      <td>89</td>\n",
       "      <td>27</td>\n",
       "      <td>...</td>\n",
       "      <td>60400</td>\n",
       "      <td>F199Q1268030</td>\n",
       "      <td>P</td>\n",
       "      <td>360</td>\n",
       "      <td>2</td>\n",
       "      <td>FL</td>\n",
       "      <td>WASHINGTONMUTUALBANK</td>\n",
       "      <td>0</td>\n",
       "      <td>0</td>\n",
       "      <td>52</td>\n",
       "    </tr>\n",
       "    <tr>\n",
       "      <th>1</th>\n",
       "      <td>0</td>\n",
       "      <td>199902</td>\n",
       "      <td>N</td>\n",
       "      <td>202901</td>\n",
       "      <td>19740</td>\n",
       "      <td>0</td>\n",
       "      <td>1</td>\n",
       "      <td>O</td>\n",
       "      <td>73</td>\n",
       "      <td>17</td>\n",
       "      <td>...</td>\n",
       "      <td>80200</td>\n",
       "      <td>F199Q1015092</td>\n",
       "      <td>N</td>\n",
       "      <td>360</td>\n",
       "      <td>1</td>\n",
       "      <td>FT</td>\n",
       "      <td>CHASEHOMEFINANCELLC</td>\n",
       "      <td>0</td>\n",
       "      <td>0</td>\n",
       "      <td>144</td>\n",
       "    </tr>\n",
       "    <tr>\n",
       "      <th>2</th>\n",
       "      <td>0</td>\n",
       "      <td>199902</td>\n",
       "      <td>N</td>\n",
       "      <td>202901</td>\n",
       "      <td>29940</td>\n",
       "      <td>0</td>\n",
       "      <td>1</td>\n",
       "      <td>O</td>\n",
       "      <td>75</td>\n",
       "      <td>16</td>\n",
       "      <td>...</td>\n",
       "      <td>66000</td>\n",
       "      <td>F199Q1266886</td>\n",
       "      <td>N</td>\n",
       "      <td>360</td>\n",
       "      <td>2</td>\n",
       "      <td>FL</td>\n",
       "      <td>WASHINGTONMUTUALBANK</td>\n",
       "      <td>0</td>\n",
       "      <td>0</td>\n",
       "      <td>67</td>\n",
       "    </tr>\n",
       "    <tr>\n",
       "      <th>3</th>\n",
       "      <td>0</td>\n",
       "      <td>199902</td>\n",
       "      <td>N</td>\n",
       "      <td>202901</td>\n",
       "      <td>31084</td>\n",
       "      <td>0</td>\n",
       "      <td>1</td>\n",
       "      <td>O</td>\n",
       "      <td>76</td>\n",
       "      <td>14</td>\n",
       "      <td>...</td>\n",
       "      <td>90700</td>\n",
       "      <td>F199Q1178167</td>\n",
       "      <td>N</td>\n",
       "      <td>360</td>\n",
       "      <td>2</td>\n",
       "      <td>GM</td>\n",
       "      <td>GMACMTGECORP</td>\n",
       "      <td>0</td>\n",
       "      <td>0</td>\n",
       "      <td>35</td>\n",
       "    </tr>\n",
       "    <tr>\n",
       "      <th>4</th>\n",
       "      <td>0</td>\n",
       "      <td>199902</td>\n",
       "      <td>N</td>\n",
       "      <td>202901</td>\n",
       "      <td>35644</td>\n",
       "      <td>0</td>\n",
       "      <td>1</td>\n",
       "      <td>O</td>\n",
       "      <td>78</td>\n",
       "      <td>18</td>\n",
       "      <td>...</td>\n",
       "      <td>7600</td>\n",
       "      <td>F199Q1178517</td>\n",
       "      <td>N</td>\n",
       "      <td>360</td>\n",
       "      <td>2</td>\n",
       "      <td>GM</td>\n",
       "      <td>GMACMTGECORP</td>\n",
       "      <td>0</td>\n",
       "      <td>0</td>\n",
       "      <td>54</td>\n",
       "    </tr>\n",
       "  </tbody>\n",
       "</table>\n",
       "<p>5 rows × 28 columns</p>\n",
       "</div>"
      ],
      "text/plain": [
       "   CreditScore  FirstPaymentDate FirstTimeHomebuyer  MaturityDate    MSA  MIP  \\\n",
       "0            0            199902                  N        202901  16974   25   \n",
       "1            0            199902                  N        202901  19740    0   \n",
       "2            0            199902                  N        202901  29940    0   \n",
       "3            0            199902                  N        202901  31084    0   \n",
       "4            0            199902                  N        202901  35644    0   \n",
       "\n",
       "   Units Occupancy  OCLTV  DTI  ...  PostalCode    LoanSeqNum  LoanPurpose  \\\n",
       "0      1         O     89   27  ...       60400  F199Q1268030            P   \n",
       "1      1         O     73   17  ...       80200  F199Q1015092            N   \n",
       "2      1         O     75   16  ...       66000  F199Q1266886            N   \n",
       "3      1         O     76   14  ...       90700  F199Q1178167            N   \n",
       "4      1         O     78   18  ...        7600  F199Q1178517            N   \n",
       "\n",
       "  OrigLoanTerm NumBorrowers SellerName          ServicerName EverDelinquent  \\\n",
       "0          360            2         FL  WASHINGTONMUTUALBANK              0   \n",
       "1          360            1         FT  CHASEHOMEFINANCELLC               0   \n",
       "2          360            2         FL  WASHINGTONMUTUALBANK              0   \n",
       "3          360            2         GM  GMACMTGECORP                      0   \n",
       "4          360            2         GM  GMACMTGECORP                      0   \n",
       "\n",
       "  MonthsDelinquent MonthsInRepayment  \n",
       "0                0                52  \n",
       "1                0               144  \n",
       "2                0                67  \n",
       "3                0                35  \n",
       "4                0                54  \n",
       "\n",
       "[5 rows x 28 columns]"
      ]
     },
     "execution_count": 8,
     "metadata": {},
     "output_type": "execute_result"
    }
   ],
   "source": [
    "df = pd.read_csv('LoanExport.csv')\n",
    "df.head()"
   ]
  },
  {
   "cell_type": "markdown",
   "metadata": {
    "id": "NavqK9YRp4WL"
   },
   "source": [
    "## Data Preprocessing"
   ]
  },
  {
   "cell_type": "code",
   "execution_count": 9,
   "metadata": {},
   "outputs": [
    {
     "data": {
      "text/plain": [
       "(291451, 28)"
      ]
     },
     "execution_count": 9,
     "metadata": {},
     "output_type": "execute_result"
    }
   ],
   "source": [
    "df.shape"
   ]
  },
  {
   "cell_type": "code",
   "execution_count": 10,
   "metadata": {},
   "outputs": [
    {
     "name": "stdout",
     "output_type": "stream",
     "text": [
      "<class 'pandas.core.frame.DataFrame'>\n",
      "RangeIndex: 291451 entries, 0 to 291450\n",
      "Data columns (total 28 columns):\n",
      " #   Column              Non-Null Count   Dtype  \n",
      "---  ------              --------------   -----  \n",
      " 0   CreditScore         291451 non-null  int64  \n",
      " 1   FirstPaymentDate    291451 non-null  int64  \n",
      " 2   FirstTimeHomebuyer  291451 non-null  object \n",
      " 3   MaturityDate        291451 non-null  int64  \n",
      " 4   MSA                 291451 non-null  object \n",
      " 5   MIP                 291451 non-null  int64  \n",
      " 6   Units               291451 non-null  int64  \n",
      " 7   Occupancy           291451 non-null  object \n",
      " 8   OCLTV               291451 non-null  int64  \n",
      " 9   DTI                 291451 non-null  int64  \n",
      " 10  OrigUPB             291451 non-null  int64  \n",
      " 11  LTV                 291451 non-null  int64  \n",
      " 12  OrigInterestRate    291451 non-null  float64\n",
      " 13  Channel             291451 non-null  object \n",
      " 14  PPM                 291451 non-null  object \n",
      " 15  ProductType         291451 non-null  object \n",
      " 16  PropertyState       291451 non-null  object \n",
      " 17  PropertyType        291451 non-null  object \n",
      " 18  PostalCode          291451 non-null  object \n",
      " 19  LoanSeqNum          291451 non-null  object \n",
      " 20  LoanPurpose         291451 non-null  object \n",
      " 21  OrigLoanTerm        291451 non-null  int64  \n",
      " 22  NumBorrowers        291451 non-null  object \n",
      " 23  SellerName          266457 non-null  object \n",
      " 24  ServicerName        291451 non-null  object \n",
      " 25  EverDelinquent      291451 non-null  int64  \n",
      " 26  MonthsDelinquent    291451 non-null  int64  \n",
      " 27  MonthsInRepayment   291451 non-null  int64  \n",
      "dtypes: float64(1), int64(13), object(14)\n",
      "memory usage: 62.3+ MB\n"
     ]
    }
   ],
   "source": [
    "# Checking informations about our features\n",
    "df.info()"
   ]
  },
  {
   "cell_type": "code",
   "execution_count": 11,
   "metadata": {},
   "outputs": [
    {
     "data": {
      "text/plain": [
       "CreditScore               0\n",
       "FirstPaymentDate          0\n",
       "FirstTimeHomebuyer        0\n",
       "MaturityDate              0\n",
       "MSA                       0\n",
       "MIP                       0\n",
       "Units                     0\n",
       "Occupancy                 0\n",
       "OCLTV                     0\n",
       "DTI                       0\n",
       "OrigUPB                   0\n",
       "LTV                       0\n",
       "OrigInterestRate          0\n",
       "Channel                   0\n",
       "PPM                       0\n",
       "ProductType               0\n",
       "PropertyState             0\n",
       "PropertyType              0\n",
       "PostalCode                0\n",
       "LoanSeqNum                0\n",
       "LoanPurpose               0\n",
       "OrigLoanTerm              0\n",
       "NumBorrowers              0\n",
       "SellerName            24994\n",
       "ServicerName              0\n",
       "EverDelinquent            0\n",
       "MonthsDelinquent          0\n",
       "MonthsInRepayment         0\n",
       "dtype: int64"
      ]
     },
     "execution_count": 11,
     "metadata": {},
     "output_type": "execute_result"
    }
   ],
   "source": [
    "# Checking for missing values \n",
    "df.isnull().sum()"
   ]
  },
  {
   "cell_type": "code",
   "execution_count": 12,
   "metadata": {},
   "outputs": [
    {
     "data": {
      "text/plain": [
       "CreditScore             int64\n",
       "FirstPaymentDate        int64\n",
       "FirstTimeHomebuyer     object\n",
       "MaturityDate            int64\n",
       "MSA                    object\n",
       "MIP                     int64\n",
       "Units                   int64\n",
       "Occupancy              object\n",
       "OCLTV                   int64\n",
       "DTI                     int64\n",
       "OrigUPB                 int64\n",
       "LTV                     int64\n",
       "OrigInterestRate      float64\n",
       "Channel                object\n",
       "PPM                    object\n",
       "ProductType            object\n",
       "PropertyState          object\n",
       "PropertyType           object\n",
       "PostalCode             object\n",
       "LoanSeqNum             object\n",
       "LoanPurpose            object\n",
       "OrigLoanTerm            int64\n",
       "NumBorrowers           object\n",
       "SellerName             object\n",
       "ServicerName           object\n",
       "EverDelinquent          int64\n",
       "MonthsDelinquent        int64\n",
       "MonthsInRepayment       int64\n",
       "dtype: object"
      ]
     },
     "execution_count": 12,
     "metadata": {},
     "output_type": "execute_result"
    }
   ],
   "source": [
    "#Check if there's any categorical features in our data \n",
    "df.dtypes"
   ]
  },
  {
   "cell_type": "code",
   "execution_count": 13,
   "metadata": {},
   "outputs": [],
   "source": [
    "# Convert date feature to datetime format \n",
    "df['MaturityDate'] = df['MaturityDate'].apply(lambda x: pd.to_datetime(str(x), format='%Y%m'))"
   ]
  },
  {
   "cell_type": "code",
   "execution_count": 14,
   "metadata": {},
   "outputs": [],
   "source": [
    "df['FirstPaymentDate'] = df['FirstPaymentDate'].apply(lambda x: pd.to_datetime(str(x), format='%Y%m'))"
   ]
  },
  {
   "cell_type": "code",
   "execution_count": 15,
   "metadata": {},
   "outputs": [
    {
     "name": "stdout",
     "output_type": "stream",
     "text": [
      "<class 'pandas.core.frame.DataFrame'>\n",
      "RangeIndex: 291451 entries, 0 to 291450\n",
      "Data columns (total 28 columns):\n",
      " #   Column              Non-Null Count   Dtype         \n",
      "---  ------              --------------   -----         \n",
      " 0   CreditScore         291451 non-null  int64         \n",
      " 1   FirstPaymentDate    291451 non-null  datetime64[ns]\n",
      " 2   FirstTimeHomebuyer  291451 non-null  object        \n",
      " 3   MaturityDate        291451 non-null  datetime64[ns]\n",
      " 4   MSA                 291451 non-null  object        \n",
      " 5   MIP                 291451 non-null  int64         \n",
      " 6   Units               291451 non-null  int64         \n",
      " 7   Occupancy           291451 non-null  object        \n",
      " 8   OCLTV               291451 non-null  int64         \n",
      " 9   DTI                 291451 non-null  int64         \n",
      " 10  OrigUPB             291451 non-null  int64         \n",
      " 11  LTV                 291451 non-null  int64         \n",
      " 12  OrigInterestRate    291451 non-null  float64       \n",
      " 13  Channel             291451 non-null  object        \n",
      " 14  PPM                 291451 non-null  object        \n",
      " 15  ProductType         291451 non-null  object        \n",
      " 16  PropertyState       291451 non-null  object        \n",
      " 17  PropertyType        291451 non-null  object        \n",
      " 18  PostalCode          291451 non-null  object        \n",
      " 19  LoanSeqNum          291451 non-null  object        \n",
      " 20  LoanPurpose         291451 non-null  object        \n",
      " 21  OrigLoanTerm        291451 non-null  int64         \n",
      " 22  NumBorrowers        291451 non-null  object        \n",
      " 23  SellerName          266457 non-null  object        \n",
      " 24  ServicerName        291451 non-null  object        \n",
      " 25  EverDelinquent      291451 non-null  int64         \n",
      " 26  MonthsDelinquent    291451 non-null  int64         \n",
      " 27  MonthsInRepayment   291451 non-null  int64         \n",
      "dtypes: datetime64[ns](2), float64(1), int64(11), object(14)\n",
      "memory usage: 62.3+ MB\n"
     ]
    }
   ],
   "source": [
    "#Visualize the change on dtypes of features\n",
    "df.info()"
   ]
  },
  {
   "cell_type": "code",
   "execution_count": 17,
   "metadata": {},
   "outputs": [
    {
     "data": {
      "text/plain": [
       "CreditScore              370\n",
       "FirstPaymentDate          66\n",
       "FirstTimeHomebuyer         3\n",
       "MaturityDate              96\n",
       "MSA                      392\n",
       "MIP                       37\n",
       "Units                      5\n",
       "Occupancy                  3\n",
       "OCLTV                    102\n",
       "DTI                       66\n",
       "OrigUPB                  375\n",
       "LTV                       97\n",
       "OrigInterestRate         254\n",
       "Channel                    4\n",
       "PPM                        3\n",
       "ProductType                1\n",
       "PropertyState             53\n",
       "PropertyType               7\n",
       "PostalCode              1767\n",
       "LoanSeqNum            291451\n",
       "LoanPurpose                3\n",
       "OrigLoanTerm              61\n",
       "NumBorrowers               3\n",
       "SellerName                20\n",
       "ServicerName              20\n",
       "EverDelinquent             2\n",
       "MonthsDelinquent         174\n",
       "MonthsInRepayment        212\n",
       "dtype: int64"
      ]
     },
     "execution_count": 17,
     "metadata": {},
     "output_type": "execute_result"
    }
   ],
   "source": [
    "#Count number of distinct elements in axis 0.\n",
    "df.nunique()"
   ]
  },
  {
   "cell_type": "code",
   "execution_count": 18,
   "metadata": {},
   "outputs": [
    {
     "data": {
      "text/plain": [
       "0    233788\n",
       "1     57663\n",
       "Name: EverDelinquent, dtype: int64"
      ]
     },
     "execution_count": 18,
     "metadata": {},
     "output_type": "execute_result"
    }
   ],
   "source": [
    "df[\"EverDelinquent\"].value_counts()"
   ]
  },
  {
   "cell_type": "code",
   "execution_count": 19,
   "metadata": {},
   "outputs": [
    {
     "name": "stdout",
     "output_type": "stream",
     "text": [
      "Seller Name size: \n",
      " Ot    76943\n",
      "CO    34479\n",
      "FL    25573\n",
      "FI    24581\n",
      "ST    22243\n",
      "NO    16184\n",
      "OL     7776\n",
      "PR     7365\n",
      "BA     7093\n",
      "GM     6566\n",
      "BI     6407\n",
      "G      4734\n",
      "CH     4599\n",
      "CR     4459\n",
      "FT     4105\n",
      "WA     3139\n",
      "AC     3076\n",
      "HO     2970\n",
      "PN     2407\n",
      "RE     1758\n",
      "Name: SellerName, dtype: int64 \n",
      "\n",
      "\n"
     ]
    }
   ],
   "source": [
    "print(\"Seller Name size: \\n\",df.SellerName.value_counts(),\"\\n\\n\")"
   ]
  },
  {
   "cell_type": "code",
   "execution_count": 20,
   "metadata": {},
   "outputs": [
    {
     "data": {
      "text/plain": [
       "array(['N', 'X', 'Y'], dtype=object)"
      ]
     },
     "execution_count": 20,
     "metadata": {},
     "output_type": "execute_result"
    }
   ],
   "source": [
    "#Return unique values \n",
    "df['FirstTimeHomebuyer'].unique()"
   ]
  },
  {
   "cell_type": "code",
   "execution_count": 21,
   "metadata": {},
   "outputs": [],
   "source": [
    "# X means No\n",
    "# Y means Yes\n",
    "# X means Unknown value "
   ]
  },
  {
   "cell_type": "code",
   "execution_count": 22,
   "metadata": {},
   "outputs": [
    {
     "data": {
      "text/plain": [
       "array(['N', 'X', 'Y'], dtype=object)"
      ]
     },
     "execution_count": 22,
     "metadata": {},
     "output_type": "execute_result"
    }
   ],
   "source": [
    "df['PPM'].unique()"
   ]
  },
  {
   "cell_type": "code",
   "execution_count": 23,
   "metadata": {},
   "outputs": [
    {
     "data": {
      "text/plain": [
       "array(['2', '1', 'X '], dtype=object)"
      ]
     },
     "execution_count": 23,
     "metadata": {},
     "output_type": "execute_result"
    }
   ],
   "source": [
    "df['NumBorrowers'].unique()"
   ]
  },
  {
   "cell_type": "code",
   "execution_count": 24,
   "metadata": {},
   "outputs": [],
   "source": [
    "# X  means unknown value"
   ]
  },
  {
   "cell_type": "code",
   "execution_count": 25,
   "metadata": {},
   "outputs": [],
   "source": [
    "#function for draw piechart\n",
    "def draw_piechart(col,label):\n",
    "  plt.figure(figsize=(10,10))\n",
    "  plt.pie(data[col].value_counts(),shadow=True ,autopct='%.3f',labels=label)\n",
    "  plt.show()"
   ]
  },
  {
   "cell_type": "code",
   "execution_count": 26,
   "metadata": {},
   "outputs": [
    {
     "data": {
      "image/png": "[encoded data removed]",
      "text/plain": [
       "<Figure size 720x720 with 1 Axes>"
      ]
     },
     "metadata": {},
     "output_type": "display_data"
    }
   ],
   "source": [
    "#draw piechart of NumBorrowers to see the distribution of its values \n",
    "label_arr=['2','1','x']\n",
    "draw_piechart('NumBorrowers',label_arr)"
   ]
  },
  {
   "cell_type": "code",
   "execution_count": 27,
   "metadata": {},
   "outputs": [
    {
     "data": {
      "image/png": "[encoded data removed]",
      "text/plain": [
       "<Figure size 720x720 with 1 Axes>"
      ]
     },
     "metadata": {},
     "output_type": "display_data"
    }
   ],
   "source": [
    "#draw piechart of FirstTimeHomebuyer to see the distribution of its values \n",
    "label_arr=['NO','YES','x']\n",
    "draw_piechart('FirstTimeHomebuyer',label_arr)"
   ]
  },
  {
   "cell_type": "code",
   "execution_count": 28,
   "metadata": {},
   "outputs": [
    {
     "data": {
      "image/png": "[encoded data removed]",
      "text/plain": [
       "<Figure size 720x720 with 1 Axes>"
      ]
     },
     "metadata": {},
     "output_type": "display_data"
    }
   ],
   "source": [
    "#draw piechart of PPM to see the distribution of its values \n",
    "label_arr=['NO','YES','x']\n",
    "draw_piechart('PPM',label_arr)"
   ]
  },
  {
   "cell_type": "code",
   "execution_count": 29,
   "metadata": {},
   "outputs": [
    {
     "data": {
      "text/plain": [
       "array(['O', 'I', 'S'], dtype=object)"
      ]
     },
     "execution_count": 29,
     "metadata": {},
     "output_type": "execute_result"
    }
   ],
   "source": [
    "df['Occupancy'].unique()"
   ]
  },
  {
   "cell_type": "code",
   "execution_count": 30,
   "metadata": {},
   "outputs": [
    {
     "data": {
      "image/png": "[encoded data removed]",
      "text/plain": [
       "<Figure size 720x720 with 1 Axes>"
      ]
     },
     "metadata": {},
     "output_type": "display_data"
    }
   ],
   "source": [
    "#draw piechart of Occupancy to see the distribution of its values \n",
    "label_arr=['O','I','S']\n",
    "draw_piechart('Occupancy',label_arr)"
   ]
  },
  {
   "cell_type": "code",
   "execution_count": 31,
   "metadata": {},
   "outputs": [
    {
     "data": {
      "text/plain": [
       "94500    2582\n",
       "30000    2374\n",
       "48100    2166\n",
       "85200    2155\n",
       "48000    1976\n",
       "         ... \n",
       "10200       1\n",
       "26600       1\n",
       "16700       1\n",
       "58800       1\n",
       "79500       1\n",
       "Name: PostalCode, Length: 1767, dtype: int64"
      ]
     },
     "execution_count": 31,
     "metadata": {},
     "output_type": "execute_result"
    }
   ],
   "source": [
    "df['PostalCode'].value_counts()"
   ]
  },
  {
   "cell_type": "code",
   "execution_count": 32,
   "metadata": {},
   "outputs": [
    {
     "data": {
      "text/plain": [
       "array(['P', 'N', 'C'], dtype=object)"
      ]
     },
     "execution_count": 32,
     "metadata": {},
     "output_type": "execute_result"
    }
   ],
   "source": [
    "df['LoanPurpose'].unique()"
   ]
  },
  {
   "cell_type": "code",
   "execution_count": 33,
   "metadata": {},
   "outputs": [
    {
     "data": {
      "text/plain": [
       "P    123404\n",
       "N    110036\n",
       "C     58011\n",
       "Name: LoanPurpose, dtype: int64"
      ]
     },
     "execution_count": 33,
     "metadata": {},
     "output_type": "execute_result"
    }
   ],
   "source": [
    "df['LoanPurpose'].value_counts()"
   ]
  },
  {
   "cell_type": "code",
   "execution_count": 34,
   "metadata": {},
   "outputs": [
    {
     "data": {
      "image/png": "[encoded data removed]",
      "text/plain": [
       "<Figure size 720x720 with 1 Axes>"
      ]
     },
     "metadata": {},
     "output_type": "display_data"
    }
   ],
   "source": [
    "#draw piechart of LoanPurpose to see the distribution of its values \n",
    "label_arr=['P','N','C']\n",
    "draw_piechart('LoanPurpose',label_arr)"
   ]
  },
  {
   "cell_type": "code",
   "execution_count": 35,
   "metadata": {},
   "outputs": [],
   "source": [
    "#function for label encoding\n",
    "def label_encoding(col):\n",
    "  label_encoder = preprocessing.LabelEncoder()\n",
    "  df[col]= label_encoder.fit_transform(df[col])"
   ]
  },
  {
   "cell_type": "code",
   "execution_count": 36,
   "metadata": {},
   "outputs": [],
   "source": [
    "#Convert categorial feature to numerical one by label_encoding function\n",
    "label_encoding('LoanPurpose')"
   ]
  },
  {
   "cell_type": "code",
   "execution_count": 37,
   "metadata": {},
   "outputs": [
    {
     "data": {
      "text/plain": [
       "array(['T', 'R', 'C', 'B'], dtype=object)"
      ]
     },
     "execution_count": 37,
     "metadata": {},
     "output_type": "execute_result"
    }
   ],
   "source": [
    "df['Channel'].unique()"
   ]
  },
  {
   "cell_type": "code",
   "execution_count": 38,
   "metadata": {
    "id": "QfJtcyYM9hLj"
   },
   "outputs": [],
   "source": [
    "#function to draw histogram\n",
    "def draw_histogram(col,plottitle,xlabel,ylabel):\n",
    "  plt.figure(figsize=(30,10))\n",
    "  plt.hist(data[col],edgecolor='black')\n",
    "  plt.title(plottitle)\n",
    "  plt.xlabel(xlabel)\n",
    "  plt.ylabel(ylabel)\n",
    "  plt.show()"
   ]
  },
  {
   "cell_type": "code",
   "execution_count": 39,
   "metadata": {},
   "outputs": [
    {
     "data": {
      "image/png": "[encoded data removed]",
      "text/plain": [
       "<Figure size 2160x720 with 1 Axes>"
      ]
     },
     "metadata": {
      "needs_background": "light"
     },
     "output_type": "display_data"
    }
   ],
   "source": [
    "# Draw histogram to know the density of out categorical data: Channel\n",
    "draw_histogram('Channel','Channel graph','Channel','frequency')"
   ]
  },
  {
   "cell_type": "code",
   "execution_count": 40,
   "metadata": {},
   "outputs": [],
   "source": [
    "#Convert categorial feature to numerical one by label_encoding function\n",
    "label_encoding('Channel')"
   ]
  },
  {
   "cell_type": "code",
   "execution_count": 41,
   "metadata": {},
   "outputs": [
    {
     "data": {
      "text/plain": [
       "array(['IL', 'CO', 'KS', 'CA', 'NJ', 'WI', 'FL', 'CT', 'GA', 'TX', 'MD',\n",
       "       'MA', 'SC', 'WY', 'NC', 'AZ', 'IN', 'MS', 'NY', 'WA', 'AR', 'VA',\n",
       "       'MN', 'LA', 'PA', 'OR', 'RI', 'UT', 'MI', 'TN', 'AL', 'MO', 'IA',\n",
       "       'NM', 'NV', 'VT', 'OH', 'NE', 'HI', 'ID', 'PR', 'DC', 'GU', 'KY',\n",
       "       'NH', 'SD', 'ME', 'MT', 'OK', 'WV', 'DE', 'ND', 'AK'], dtype=object)"
      ]
     },
     "execution_count": 41,
     "metadata": {},
     "output_type": "execute_result"
    }
   ],
   "source": [
    "df['PropertyState'].unique()"
   ]
  },
  {
   "cell_type": "code",
   "execution_count": 42,
   "metadata": {},
   "outputs": [
    {
     "data": {
      "image/png": "[encoded data removed]",
      "text/plain": [
       "<Figure size 2160x720 with 1 Axes>"
      ]
     },
     "metadata": {
      "needs_background": "light"
     },
     "output_type": "display_data"
    }
   ],
   "source": [
    "# Draw histogram to know the density of out categorical data: PropertyState\n",
    "draw_histogram('PropertyState','PropertyState graph','PropertyState','frequency')"
   ]
  },
  {
   "cell_type": "code",
   "execution_count": 43,
   "metadata": {},
   "outputs": [],
   "source": [
    "#Convert it to numerical \n",
    "label_encoding('PropertyState')"
   ]
  },
  {
   "cell_type": "code",
   "execution_count": 44,
   "metadata": {},
   "outputs": [
    {
     "data": {
      "text/plain": [
       "array(['SF', 'PU', 'CO', 'MH', 'CP', 'LH', 'X '], dtype=object)"
      ]
     },
     "execution_count": 44,
     "metadata": {},
     "output_type": "execute_result"
    }
   ],
   "source": [
    "df['PropertyType'].unique()"
   ]
  },
  {
   "cell_type": "code",
   "execution_count": 45,
   "metadata": {},
   "outputs": [
    {
     "data": {
      "image/png": "[encoded data removed]",
      "text/plain": [
       "<Figure size 2160x720 with 1 Axes>"
      ]
     },
     "metadata": {
      "needs_background": "light"
     },
     "output_type": "display_data"
    }
   ],
   "source": [
    "# Draw histogram to know the density of out categorical data: PropertyType\n",
    "draw_histogram('PropertyType','PropertyType graph','PropertyType','frequency')"
   ]
  },
  {
   "cell_type": "code",
   "execution_count": 46,
   "metadata": {},
   "outputs": [],
   "source": [
    "#Convert it to numerical \n",
    "label_encoding('PropertyType')"
   ]
  },
  {
   "cell_type": "code",
   "execution_count": 47,
   "metadata": {
    "id": "WEKYmeB0eGmq"
   },
   "outputs": [],
   "source": [
    "def one_hot_encoding(cols):\n",
    "  one_hot_encoded_data = pd.get_dummies(data, columns = cols)\n",
    "  return one_hot_encoded_data"
   ]
  },
  {
   "cell_type": "code",
   "execution_count": 53,
   "metadata": {},
   "outputs": [],
   "source": [
    "#convert LoanPurpose and FirstTimeHomebuyer to numerical data by get_dummies function\n",
    "encoded_data = pd.get_dummies(df['LoanPurpose'], prefix='LoanPurpose')\n",
    "encoded_data2 = pd.get_dummies(df['FirstTimeHomebuyer'], prefix='FirstTimeHomebuyer')\n",
    "data_temp = pd.concat([df, encoded_data], axis=1)\n",
    "df=pd.concat([data_temp,encoded_data2], axis =1)\n",
    "df.drop('LoanPurpose', axis=1,inplace=True)\n",
    "df.drop('FirstTimeHomebuyer', axis =1 , inplace=True)"
   ]
  },
  {
   "cell_type": "code",
   "execution_count": 54,
   "metadata": {
    "colab": {
     "base_uri": "https://localhost:8080/"
    },
    "id": "cKuePCYe-jZ6",
    "outputId": "b4763ed5-fbe7-4689-c154-9a8a02916c92"
   },
   "outputs": [
    {
     "data": {
      "text/plain": [
       "Index(['CreditScore', 'FirstPaymentDate', 'MaturityDate', 'MSA', 'MIP',\n",
       "       'Units', 'Occupancy', 'OCLTV', 'DTI', 'OrigUPB', 'LTV',\n",
       "       'OrigInterestRate', 'Channel', 'PPM', 'ProductType', 'PropertyState',\n",
       "       'PropertyType', 'PostalCode', 'LoanSeqNum', 'OrigLoanTerm',\n",
       "       'NumBorrowers', 'SellerName', 'ServicerName', 'EverDelinquent',\n",
       "       'MonthsDelinquent', 'MonthsInRepayment', 'LoanPurpose_0',\n",
       "       'LoanPurpose_1', 'LoanPurpose_2', 'FirstTimeHomebuyer_N',\n",
       "       'FirstTimeHomebuyer_X', 'FirstTimeHomebuyer_Y'],\n",
       "      dtype='object')"
      ]
     },
     "execution_count": 54,
     "metadata": {},
     "output_type": "execute_result"
    }
   ],
   "source": [
    "df.columns"
   ]
  },
  {
   "cell_type": "code",
   "execution_count": 55,
   "metadata": {
    "id": "tArxf8byBkwO"
   },
   "outputs": [],
   "source": [
    "# Eliminating useless features \n",
    "df.drop(['FirstTimeHomebuyer_X','FirstTimeHomebuyer_N','ServicerName','SellerName','NumBorrowers','PropertyType','PropertyState','ProductType','PPM','Channel','Occupancy','MSA','MaturityDate','FirstPaymentDate'], inplace=True,axis=1)\n"
   ]
  },
  {
   "cell_type": "code",
   "execution_count": 56,
   "metadata": {
    "colab": {
     "base_uri": "https://localhost:8080/",
     "height": 270
    },
    "id": "Cd2869ZBQaQU",
    "outputId": "63ac403f-f65b-43e8-cb15-413849d5748e"
   },
   "outputs": [
    {
     "data": {
      "text/html": [
       "<div>\n",
       "<style scoped>\n",
       "    .dataframe tbody tr th:only-of-type {\n",
       "        vertical-align: middle;\n",
       "    }\n",
       "\n",
       "    .dataframe tbody tr th {\n",
       "        vertical-align: top;\n",
       "    }\n",
       "\n",
       "    .dataframe thead th {\n",
       "        text-align: right;\n",
       "    }\n",
       "</style>\n",
       "<table border=\"1\" class=\"dataframe\">\n",
       "  <thead>\n",
       "    <tr style=\"text-align: right;\">\n",
       "      <th></th>\n",
       "      <th>CreditScore</th>\n",
       "      <th>MIP</th>\n",
       "      <th>Units</th>\n",
       "      <th>OCLTV</th>\n",
       "      <th>DTI</th>\n",
       "      <th>OrigUPB</th>\n",
       "      <th>LTV</th>\n",
       "      <th>OrigInterestRate</th>\n",
       "      <th>PostalCode</th>\n",
       "      <th>LoanSeqNum</th>\n",
       "      <th>OrigLoanTerm</th>\n",
       "      <th>EverDelinquent</th>\n",
       "      <th>MonthsDelinquent</th>\n",
       "      <th>MonthsInRepayment</th>\n",
       "      <th>LoanPurpose_0</th>\n",
       "      <th>LoanPurpose_1</th>\n",
       "      <th>LoanPurpose_2</th>\n",
       "      <th>FirstTimeHomebuyer_Y</th>\n",
       "    </tr>\n",
       "  </thead>\n",
       "  <tbody>\n",
       "    <tr>\n",
       "      <th>0</th>\n",
       "      <td>0</td>\n",
       "      <td>25</td>\n",
       "      <td>1</td>\n",
       "      <td>89</td>\n",
       "      <td>27</td>\n",
       "      <td>117000</td>\n",
       "      <td>89</td>\n",
       "      <td>6.750</td>\n",
       "      <td>60400</td>\n",
       "      <td>F199Q1268030</td>\n",
       "      <td>360</td>\n",
       "      <td>0</td>\n",
       "      <td>0</td>\n",
       "      <td>52</td>\n",
       "      <td>0</td>\n",
       "      <td>0</td>\n",
       "      <td>1</td>\n",
       "      <td>0</td>\n",
       "    </tr>\n",
       "    <tr>\n",
       "      <th>1</th>\n",
       "      <td>0</td>\n",
       "      <td>0</td>\n",
       "      <td>1</td>\n",
       "      <td>73</td>\n",
       "      <td>17</td>\n",
       "      <td>109000</td>\n",
       "      <td>73</td>\n",
       "      <td>6.500</td>\n",
       "      <td>80200</td>\n",
       "      <td>F199Q1015092</td>\n",
       "      <td>360</td>\n",
       "      <td>0</td>\n",
       "      <td>0</td>\n",
       "      <td>144</td>\n",
       "      <td>0</td>\n",
       "      <td>1</td>\n",
       "      <td>0</td>\n",
       "      <td>0</td>\n",
       "    </tr>\n",
       "    <tr>\n",
       "      <th>2</th>\n",
       "      <td>0</td>\n",
       "      <td>0</td>\n",
       "      <td>1</td>\n",
       "      <td>75</td>\n",
       "      <td>16</td>\n",
       "      <td>88000</td>\n",
       "      <td>75</td>\n",
       "      <td>6.875</td>\n",
       "      <td>66000</td>\n",
       "      <td>F199Q1266886</td>\n",
       "      <td>360</td>\n",
       "      <td>0</td>\n",
       "      <td>0</td>\n",
       "      <td>67</td>\n",
       "      <td>0</td>\n",
       "      <td>1</td>\n",
       "      <td>0</td>\n",
       "      <td>0</td>\n",
       "    </tr>\n",
       "    <tr>\n",
       "      <th>3</th>\n",
       "      <td>0</td>\n",
       "      <td>0</td>\n",
       "      <td>1</td>\n",
       "      <td>76</td>\n",
       "      <td>14</td>\n",
       "      <td>160000</td>\n",
       "      <td>76</td>\n",
       "      <td>6.875</td>\n",
       "      <td>90700</td>\n",
       "      <td>F199Q1178167</td>\n",
       "      <td>360</td>\n",
       "      <td>0</td>\n",
       "      <td>0</td>\n",
       "      <td>35</td>\n",
       "      <td>0</td>\n",
       "      <td>1</td>\n",
       "      <td>0</td>\n",
       "      <td>0</td>\n",
       "    </tr>\n",
       "    <tr>\n",
       "      <th>4</th>\n",
       "      <td>0</td>\n",
       "      <td>0</td>\n",
       "      <td>1</td>\n",
       "      <td>78</td>\n",
       "      <td>18</td>\n",
       "      <td>109000</td>\n",
       "      <td>78</td>\n",
       "      <td>7.125</td>\n",
       "      <td>7600</td>\n",
       "      <td>F199Q1178517</td>\n",
       "      <td>360</td>\n",
       "      <td>0</td>\n",
       "      <td>0</td>\n",
       "      <td>54</td>\n",
       "      <td>0</td>\n",
       "      <td>1</td>\n",
       "      <td>0</td>\n",
       "      <td>0</td>\n",
       "    </tr>\n",
       "  </tbody>\n",
       "</table>\n",
       "</div>"
      ],
      "text/plain": [
       "   CreditScore  MIP  Units  OCLTV  DTI  OrigUPB  LTV  OrigInterestRate  \\\n",
       "0            0   25      1     89   27   117000   89             6.750   \n",
       "1            0    0      1     73   17   109000   73             6.500   \n",
       "2            0    0      1     75   16    88000   75             6.875   \n",
       "3            0    0      1     76   14   160000   76             6.875   \n",
       "4            0    0      1     78   18   109000   78             7.125   \n",
       "\n",
       "  PostalCode    LoanSeqNum  OrigLoanTerm  EverDelinquent  MonthsDelinquent  \\\n",
       "0      60400  F199Q1268030           360               0                 0   \n",
       "1      80200  F199Q1015092           360               0                 0   \n",
       "2      66000  F199Q1266886           360               0                 0   \n",
       "3      90700  F199Q1178167           360               0                 0   \n",
       "4       7600  F199Q1178517           360               0                 0   \n",
       "\n",
       "   MonthsInRepayment  LoanPurpose_0  LoanPurpose_1  LoanPurpose_2  \\\n",
       "0                 52              0              0              1   \n",
       "1                144              0              1              0   \n",
       "2                 67              0              1              0   \n",
       "3                 35              0              1              0   \n",
       "4                 54              0              1              0   \n",
       "\n",
       "   FirstTimeHomebuyer_Y  \n",
       "0                     0  \n",
       "1                     0  \n",
       "2                     0  \n",
       "3                     0  \n",
       "4                     0  "
      ]
     },
     "execution_count": 56,
     "metadata": {},
     "output_type": "execute_result"
    }
   ],
   "source": [
    "df.head()"
   ]
  },
  {
   "cell_type": "code",
   "execution_count": 57,
   "metadata": {
    "colab": {
     "base_uri": "https://localhost:8080/"
    },
    "id": "G0-nhTPdLbdL",
    "outputId": "959b74b8-69c7-4259-ff9f-d0cb7a575e51"
   },
   "outputs": [
    {
     "data": {
      "text/plain": [
       "CreditScore             0\n",
       "MIP                     0\n",
       "Units                   0\n",
       "OCLTV                   0\n",
       "DTI                     0\n",
       "OrigUPB                 0\n",
       "LTV                     0\n",
       "OrigInterestRate        0\n",
       "PostalCode              0\n",
       "LoanSeqNum              0\n",
       "OrigLoanTerm            0\n",
       "EverDelinquent          0\n",
       "MonthsDelinquent        0\n",
       "MonthsInRepayment       0\n",
       "LoanPurpose_0           0\n",
       "LoanPurpose_1           0\n",
       "LoanPurpose_2           0\n",
       "FirstTimeHomebuyer_Y    0\n",
       "dtype: int64"
      ]
     },
     "execution_count": 57,
     "metadata": {},
     "output_type": "execute_result"
    }
   ],
   "source": [
    "df.isnull().sum()"
   ]
  },
  {
   "cell_type": "code",
   "execution_count": 58,
   "metadata": {
    "id": "e0nQowxBTNH4"
   },
   "outputs": [],
   "source": [
    "df.drop(['PostalCode','LoanSeqNum'], axis=1,inplace=True)"
   ]
  },
  {
   "cell_type": "code",
   "execution_count": 60,
   "metadata": {
    "colab": {
     "base_uri": "https://localhost:8080/"
    },
    "id": "XQbjY7IeTEvx",
    "outputId": "4b6c0977-6d07-437f-8521-5c8d863c7257"
   },
   "outputs": [
    {
     "name": "stdout",
     "output_type": "stream",
     "text": [
      "<class 'pandas.core.frame.DataFrame'>\n",
      "RangeIndex: 291451 entries, 0 to 291450\n",
      "Data columns (total 16 columns):\n",
      " #   Column                Non-Null Count   Dtype  \n",
      "---  ------                --------------   -----  \n",
      " 0   CreditScore           291451 non-null  int64  \n",
      " 1   MIP                   291451 non-null  int64  \n",
      " 2   Units                 291451 non-null  int64  \n",
      " 3   OCLTV                 291451 non-null  int64  \n",
      " 4   DTI                   291451 non-null  int64  \n",
      " 5   OrigUPB               291451 non-null  int64  \n",
      " 6   LTV                   291451 non-null  int64  \n",
      " 7   OrigInterestRate      291451 non-null  float64\n",
      " 8   OrigLoanTerm          291451 non-null  int64  \n",
      " 9   EverDelinquent        291451 non-null  int64  \n",
      " 10  MonthsDelinquent      291451 non-null  int64  \n",
      " 11  MonthsInRepayment     291451 non-null  int64  \n",
      " 12  LoanPurpose_0         291451 non-null  uint8  \n",
      " 13  LoanPurpose_1         291451 non-null  uint8  \n",
      " 14  LoanPurpose_2         291451 non-null  uint8  \n",
      " 15  FirstTimeHomebuyer_Y  291451 non-null  uint8  \n",
      "dtypes: float64(1), int64(11), uint8(4)\n",
      "memory usage: 27.8 MB\n"
     ]
    }
   ],
   "source": [
    "#no more categorical variables \n",
    "df.info()"
   ]
  },
  {
   "cell_type": "code",
   "execution_count": 61,
   "metadata": {
    "colab": {
     "base_uri": "https://localhost:8080/",
     "height": 270
    },
    "id": "hPJXfC4yNx9a",
    "outputId": "da309692-c227-4c7e-b5a6-8382f27c6a87"
   },
   "outputs": [
    {
     "data": {
      "text/html": [
       "<div>\n",
       "<style scoped>\n",
       "    .dataframe tbody tr th:only-of-type {\n",
       "        vertical-align: middle;\n",
       "    }\n",
       "\n",
       "    .dataframe tbody tr th {\n",
       "        vertical-align: top;\n",
       "    }\n",
       "\n",
       "    .dataframe thead th {\n",
       "        text-align: right;\n",
       "    }\n",
       "</style>\n",
       "<table border=\"1\" class=\"dataframe\">\n",
       "  <thead>\n",
       "    <tr style=\"text-align: right;\">\n",
       "      <th></th>\n",
       "      <th>CreditScore</th>\n",
       "      <th>MIP</th>\n",
       "      <th>Units</th>\n",
       "      <th>OCLTV</th>\n",
       "      <th>DTI</th>\n",
       "      <th>OrigUPB</th>\n",
       "      <th>LTV</th>\n",
       "      <th>OrigInterestRate</th>\n",
       "      <th>OrigLoanTerm</th>\n",
       "      <th>EverDelinquent</th>\n",
       "      <th>MonthsDelinquent</th>\n",
       "      <th>MonthsInRepayment</th>\n",
       "      <th>LoanPurpose_0</th>\n",
       "      <th>LoanPurpose_1</th>\n",
       "      <th>LoanPurpose_2</th>\n",
       "      <th>FirstTimeHomebuyer_Y</th>\n",
       "    </tr>\n",
       "  </thead>\n",
       "  <tbody>\n",
       "    <tr>\n",
       "      <th>0</th>\n",
       "      <td>0</td>\n",
       "      <td>25</td>\n",
       "      <td>1</td>\n",
       "      <td>89</td>\n",
       "      <td>27</td>\n",
       "      <td>117000</td>\n",
       "      <td>89</td>\n",
       "      <td>6.750</td>\n",
       "      <td>360</td>\n",
       "      <td>0</td>\n",
       "      <td>0</td>\n",
       "      <td>52</td>\n",
       "      <td>0</td>\n",
       "      <td>0</td>\n",
       "      <td>1</td>\n",
       "      <td>0</td>\n",
       "    </tr>\n",
       "    <tr>\n",
       "      <th>1</th>\n",
       "      <td>0</td>\n",
       "      <td>0</td>\n",
       "      <td>1</td>\n",
       "      <td>73</td>\n",
       "      <td>17</td>\n",
       "      <td>109000</td>\n",
       "      <td>73</td>\n",
       "      <td>6.500</td>\n",
       "      <td>360</td>\n",
       "      <td>0</td>\n",
       "      <td>0</td>\n",
       "      <td>144</td>\n",
       "      <td>0</td>\n",
       "      <td>1</td>\n",
       "      <td>0</td>\n",
       "      <td>0</td>\n",
       "    </tr>\n",
       "    <tr>\n",
       "      <th>2</th>\n",
       "      <td>0</td>\n",
       "      <td>0</td>\n",
       "      <td>1</td>\n",
       "      <td>75</td>\n",
       "      <td>16</td>\n",
       "      <td>88000</td>\n",
       "      <td>75</td>\n",
       "      <td>6.875</td>\n",
       "      <td>360</td>\n",
       "      <td>0</td>\n",
       "      <td>0</td>\n",
       "      <td>67</td>\n",
       "      <td>0</td>\n",
       "      <td>1</td>\n",
       "      <td>0</td>\n",
       "      <td>0</td>\n",
       "    </tr>\n",
       "    <tr>\n",
       "      <th>3</th>\n",
       "      <td>0</td>\n",
       "      <td>0</td>\n",
       "      <td>1</td>\n",
       "      <td>76</td>\n",
       "      <td>14</td>\n",
       "      <td>160000</td>\n",
       "      <td>76</td>\n",
       "      <td>6.875</td>\n",
       "      <td>360</td>\n",
       "      <td>0</td>\n",
       "      <td>0</td>\n",
       "      <td>35</td>\n",
       "      <td>0</td>\n",
       "      <td>1</td>\n",
       "      <td>0</td>\n",
       "      <td>0</td>\n",
       "    </tr>\n",
       "    <tr>\n",
       "      <th>4</th>\n",
       "      <td>0</td>\n",
       "      <td>0</td>\n",
       "      <td>1</td>\n",
       "      <td>78</td>\n",
       "      <td>18</td>\n",
       "      <td>109000</td>\n",
       "      <td>78</td>\n",
       "      <td>7.125</td>\n",
       "      <td>360</td>\n",
       "      <td>0</td>\n",
       "      <td>0</td>\n",
       "      <td>54</td>\n",
       "      <td>0</td>\n",
       "      <td>1</td>\n",
       "      <td>0</td>\n",
       "      <td>0</td>\n",
       "    </tr>\n",
       "  </tbody>\n",
       "</table>\n",
       "</div>"
      ],
      "text/plain": [
       "   CreditScore  MIP  Units  OCLTV  DTI  OrigUPB  LTV  OrigInterestRate  \\\n",
       "0            0   25      1     89   27   117000   89             6.750   \n",
       "1            0    0      1     73   17   109000   73             6.500   \n",
       "2            0    0      1     75   16    88000   75             6.875   \n",
       "3            0    0      1     76   14   160000   76             6.875   \n",
       "4            0    0      1     78   18   109000   78             7.125   \n",
       "\n",
       "   OrigLoanTerm  EverDelinquent  MonthsDelinquent  MonthsInRepayment  \\\n",
       "0           360               0                 0                 52   \n",
       "1           360               0                 0                144   \n",
       "2           360               0                 0                 67   \n",
       "3           360               0                 0                 35   \n",
       "4           360               0                 0                 54   \n",
       "\n",
       "   LoanPurpose_0  LoanPurpose_1  LoanPurpose_2  FirstTimeHomebuyer_Y  \n",
       "0              0              0              1                     0  \n",
       "1              0              1              0                     0  \n",
       "2              0              1              0                     0  \n",
       "3              0              1              0                     0  \n",
       "4              0              1              0                     0  "
      ]
     },
     "execution_count": 61,
     "metadata": {},
     "output_type": "execute_result"
    }
   ],
   "source": [
    "df.head()"
   ]
  },
  {
   "cell_type": "code",
   "execution_count": 62,
   "metadata": {
    "colab": {
     "base_uri": "https://localhost:8080/",
     "height": 364
    },
    "id": "2YVmvtntGWxu",
    "outputId": "bcfc9fe0-1c2e-40c6-fb2a-ad7a1b4396a2"
   },
   "outputs": [
    {
     "data": {
      "text/html": [
       "<div>\n",
       "<style scoped>\n",
       "    .dataframe tbody tr th:only-of-type {\n",
       "        vertical-align: middle;\n",
       "    }\n",
       "\n",
       "    .dataframe tbody tr th {\n",
       "        vertical-align: top;\n",
       "    }\n",
       "\n",
       "    .dataframe thead th {\n",
       "        text-align: right;\n",
       "    }\n",
       "</style>\n",
       "<table border=\"1\" class=\"dataframe\">\n",
       "  <thead>\n",
       "    <tr style=\"text-align: right;\">\n",
       "      <th></th>\n",
       "      <th>CreditScore</th>\n",
       "      <th>MIP</th>\n",
       "      <th>Units</th>\n",
       "      <th>OCLTV</th>\n",
       "      <th>DTI</th>\n",
       "      <th>OrigUPB</th>\n",
       "      <th>LTV</th>\n",
       "      <th>OrigInterestRate</th>\n",
       "      <th>OrigLoanTerm</th>\n",
       "      <th>EverDelinquent</th>\n",
       "      <th>MonthsDelinquent</th>\n",
       "      <th>MonthsInRepayment</th>\n",
       "      <th>LoanPurpose_0</th>\n",
       "      <th>LoanPurpose_1</th>\n",
       "      <th>LoanPurpose_2</th>\n",
       "      <th>FirstTimeHomebuyer_Y</th>\n",
       "    </tr>\n",
       "  </thead>\n",
       "  <tbody>\n",
       "    <tr>\n",
       "      <th>count</th>\n",
       "      <td>291451.000000</td>\n",
       "      <td>291451.000000</td>\n",
       "      <td>291451.000000</td>\n",
       "      <td>291451.000000</td>\n",
       "      <td>291451.000000</td>\n",
       "      <td>291451.000000</td>\n",
       "      <td>291451.000000</td>\n",
       "      <td>291451.000000</td>\n",
       "      <td>291451.000000</td>\n",
       "      <td>291451.000000</td>\n",
       "      <td>291451.000000</td>\n",
       "      <td>291451.000000</td>\n",
       "      <td>291451.000000</td>\n",
       "      <td>291451.000000</td>\n",
       "      <td>291451.000000</td>\n",
       "      <td>291451.000000</td>\n",
       "    </tr>\n",
       "    <tr>\n",
       "      <th>mean</th>\n",
       "      <td>708.936991</td>\n",
       "      <td>9.216685</td>\n",
       "      <td>1.026022</td>\n",
       "      <td>76.960529</td>\n",
       "      <td>30.033453</td>\n",
       "      <td>124940.387921</td>\n",
       "      <td>76.937986</td>\n",
       "      <td>6.926547</td>\n",
       "      <td>359.835375</td>\n",
       "      <td>0.197848</td>\n",
       "      <td>1.837729</td>\n",
       "      <td>60.805291</td>\n",
       "      <td>0.199042</td>\n",
       "      <td>0.377545</td>\n",
       "      <td>0.423413</td>\n",
       "      <td>0.100470</td>\n",
       "    </tr>\n",
       "    <tr>\n",
       "      <th>std</th>\n",
       "      <td>68.408791</td>\n",
       "      <td>12.648273</td>\n",
       "      <td>0.202986</td>\n",
       "      <td>15.236154</td>\n",
       "      <td>13.203974</td>\n",
       "      <td>53657.440624</td>\n",
       "      <td>15.225298</td>\n",
       "      <td>0.343541</td>\n",
       "      <td>2.286939</td>\n",
       "      <td>0.398378</td>\n",
       "      <td>8.809392</td>\n",
       "      <td>46.142599</td>\n",
       "      <td>0.399280</td>\n",
       "      <td>0.484774</td>\n",
       "      <td>0.494100</td>\n",
       "      <td>0.300626</td>\n",
       "    </tr>\n",
       "    <tr>\n",
       "      <th>min</th>\n",
       "      <td>0.000000</td>\n",
       "      <td>0.000000</td>\n",
       "      <td>0.000000</td>\n",
       "      <td>0.000000</td>\n",
       "      <td>0.000000</td>\n",
       "      <td>8000.000000</td>\n",
       "      <td>0.000000</td>\n",
       "      <td>4.000000</td>\n",
       "      <td>301.000000</td>\n",
       "      <td>0.000000</td>\n",
       "      <td>0.000000</td>\n",
       "      <td>1.000000</td>\n",
       "      <td>0.000000</td>\n",
       "      <td>0.000000</td>\n",
       "      <td>0.000000</td>\n",
       "      <td>0.000000</td>\n",
       "    </tr>\n",
       "    <tr>\n",
       "      <th>25%</th>\n",
       "      <td>675.000000</td>\n",
       "      <td>0.000000</td>\n",
       "      <td>1.000000</td>\n",
       "      <td>70.000000</td>\n",
       "      <td>22.000000</td>\n",
       "      <td>83000.000000</td>\n",
       "      <td>70.000000</td>\n",
       "      <td>6.750000</td>\n",
       "      <td>360.000000</td>\n",
       "      <td>0.000000</td>\n",
       "      <td>0.000000</td>\n",
       "      <td>34.000000</td>\n",
       "      <td>0.000000</td>\n",
       "      <td>0.000000</td>\n",
       "      <td>0.000000</td>\n",
       "      <td>0.000000</td>\n",
       "    </tr>\n",
       "    <tr>\n",
       "      <th>50%</th>\n",
       "      <td>717.000000</td>\n",
       "      <td>0.000000</td>\n",
       "      <td>1.000000</td>\n",
       "      <td>80.000000</td>\n",
       "      <td>31.000000</td>\n",
       "      <td>117000.000000</td>\n",
       "      <td>80.000000</td>\n",
       "      <td>6.875000</td>\n",
       "      <td>360.000000</td>\n",
       "      <td>0.000000</td>\n",
       "      <td>0.000000</td>\n",
       "      <td>48.000000</td>\n",
       "      <td>0.000000</td>\n",
       "      <td>0.000000</td>\n",
       "      <td>0.000000</td>\n",
       "      <td>0.000000</td>\n",
       "    </tr>\n",
       "    <tr>\n",
       "      <th>75%</th>\n",
       "      <td>753.000000</td>\n",
       "      <td>25.000000</td>\n",
       "      <td>1.000000</td>\n",
       "      <td>90.000000</td>\n",
       "      <td>39.000000</td>\n",
       "      <td>160000.000000</td>\n",
       "      <td>90.000000</td>\n",
       "      <td>7.125000</td>\n",
       "      <td>360.000000</td>\n",
       "      <td>0.000000</td>\n",
       "      <td>0.000000</td>\n",
       "      <td>63.000000</td>\n",
       "      <td>0.000000</td>\n",
       "      <td>1.000000</td>\n",
       "      <td>1.000000</td>\n",
       "      <td>0.000000</td>\n",
       "    </tr>\n",
       "    <tr>\n",
       "      <th>max</th>\n",
       "      <td>849.000000</td>\n",
       "      <td>55.000000</td>\n",
       "      <td>4.000000</td>\n",
       "      <td>110.000000</td>\n",
       "      <td>65.000000</td>\n",
       "      <td>497000.000000</td>\n",
       "      <td>103.000000</td>\n",
       "      <td>12.350000</td>\n",
       "      <td>361.000000</td>\n",
       "      <td>1.000000</td>\n",
       "      <td>180.000000</td>\n",
       "      <td>212.000000</td>\n",
       "      <td>1.000000</td>\n",
       "      <td>1.000000</td>\n",
       "      <td>1.000000</td>\n",
       "      <td>1.000000</td>\n",
       "    </tr>\n",
       "  </tbody>\n",
       "</table>\n",
       "</div>"
      ],
      "text/plain": [
       "         CreditScore            MIP          Units          OCLTV  \\\n",
       "count  291451.000000  291451.000000  291451.000000  291451.000000   \n",
       "mean      708.936991       9.216685       1.026022      76.960529   \n",
       "std        68.408791      12.648273       0.202986      15.236154   \n",
       "min         0.000000       0.000000       0.000000       0.000000   \n",
       "25%       675.000000       0.000000       1.000000      70.000000   \n",
       "50%       717.000000       0.000000       1.000000      80.000000   \n",
       "75%       753.000000      25.000000       1.000000      90.000000   \n",
       "max       849.000000      55.000000       4.000000     110.000000   \n",
       "\n",
       "                 DTI        OrigUPB            LTV  OrigInterestRate  \\\n",
       "count  291451.000000  291451.000000  291451.000000     291451.000000   \n",
       "mean       30.033453  124940.387921      76.937986          6.926547   \n",
       "std        13.203974   53657.440624      15.225298          0.343541   \n",
       "min         0.000000    8000.000000       0.000000          4.000000   \n",
       "25%        22.000000   83000.000000      70.000000          6.750000   \n",
       "50%        31.000000  117000.000000      80.000000          6.875000   \n",
       "75%        39.000000  160000.000000      90.000000          7.125000   \n",
       "max        65.000000  497000.000000     103.000000         12.350000   \n",
       "\n",
       "        OrigLoanTerm  EverDelinquent  MonthsDelinquent  MonthsInRepayment  \\\n",
       "count  291451.000000   291451.000000     291451.000000      291451.000000   \n",
       "mean      359.835375        0.197848          1.837729          60.805291   \n",
       "std         2.286939        0.398378          8.809392          46.142599   \n",
       "min       301.000000        0.000000          0.000000           1.000000   \n",
       "25%       360.000000        0.000000          0.000000          34.000000   \n",
       "50%       360.000000        0.000000          0.000000          48.000000   \n",
       "75%       360.000000        0.000000          0.000000          63.000000   \n",
       "max       361.000000        1.000000        180.000000         212.000000   \n",
       "\n",
       "       LoanPurpose_0  LoanPurpose_1  LoanPurpose_2  FirstTimeHomebuyer_Y  \n",
       "count  291451.000000  291451.000000  291451.000000         291451.000000  \n",
       "mean        0.199042       0.377545       0.423413              0.100470  \n",
       "std         0.399280       0.484774       0.494100              0.300626  \n",
       "min         0.000000       0.000000       0.000000              0.000000  \n",
       "25%         0.000000       0.000000       0.000000              0.000000  \n",
       "50%         0.000000       0.000000       0.000000              0.000000  \n",
       "75%         0.000000       1.000000       1.000000              0.000000  \n",
       "max         1.000000       1.000000       1.000000              1.000000  "
      ]
     },
     "execution_count": 62,
     "metadata": {},
     "output_type": "execute_result"
    }
   ],
   "source": [
    "df.describe()"
   ]
  },
  {
   "cell_type": "code",
   "execution_count": 63,
   "metadata": {
    "colab": {
     "base_uri": "https://localhost:8080/",
     "height": 615
    },
    "id": "e8U3eHnrGbe8",
    "outputId": "12198720-6d02-4dc5-a122-6075f7d586fc"
   },
   "outputs": [
    {
     "data": {
      "text/html": [
       "<div>\n",
       "<style scoped>\n",
       "    .dataframe tbody tr th:only-of-type {\n",
       "        vertical-align: middle;\n",
       "    }\n",
       "\n",
       "    .dataframe tbody tr th {\n",
       "        vertical-align: top;\n",
       "    }\n",
       "\n",
       "    .dataframe thead th {\n",
       "        text-align: right;\n",
       "    }\n",
       "</style>\n",
       "<table border=\"1\" class=\"dataframe\">\n",
       "  <thead>\n",
       "    <tr style=\"text-align: right;\">\n",
       "      <th></th>\n",
       "      <th>CreditScore</th>\n",
       "      <th>MIP</th>\n",
       "      <th>Units</th>\n",
       "      <th>OCLTV</th>\n",
       "      <th>DTI</th>\n",
       "      <th>OrigUPB</th>\n",
       "      <th>LTV</th>\n",
       "      <th>OrigInterestRate</th>\n",
       "      <th>OrigLoanTerm</th>\n",
       "      <th>EverDelinquent</th>\n",
       "      <th>MonthsDelinquent</th>\n",
       "      <th>MonthsInRepayment</th>\n",
       "      <th>LoanPurpose_0</th>\n",
       "      <th>LoanPurpose_1</th>\n",
       "      <th>LoanPurpose_2</th>\n",
       "      <th>FirstTimeHomebuyer_Y</th>\n",
       "    </tr>\n",
       "  </thead>\n",
       "  <tbody>\n",
       "    <tr>\n",
       "      <th>CreditScore</th>\n",
       "      <td>1.000000</td>\n",
       "      <td>-0.164376</td>\n",
       "      <td>0.002808</td>\n",
       "      <td>-0.190848</td>\n",
       "      <td>-0.098740</td>\n",
       "      <td>0.003770</td>\n",
       "      <td>-0.191080</td>\n",
       "      <td>-0.119472</td>\n",
       "      <td>-0.008075</td>\n",
       "      <td>-0.207204</td>\n",
       "      <td>-0.150266</td>\n",
       "      <td>-0.005127</td>\n",
       "      <td>0.012689</td>\n",
       "      <td>-0.005176</td>\n",
       "      <td>-0.005175</td>\n",
       "      <td>-0.049881</td>\n",
       "    </tr>\n",
       "    <tr>\n",
       "      <th>MIP</th>\n",
       "      <td>-0.164376</td>\n",
       "      <td>1.000000</td>\n",
       "      <td>-0.042111</td>\n",
       "      <td>0.694789</td>\n",
       "      <td>0.111603</td>\n",
       "      <td>0.006729</td>\n",
       "      <td>0.695888</td>\n",
       "      <td>0.124544</td>\n",
       "      <td>0.014834</td>\n",
       "      <td>0.059993</td>\n",
       "      <td>0.051204</td>\n",
       "      <td>-0.087802</td>\n",
       "      <td>-0.326432</td>\n",
       "      <td>-0.156375</td>\n",
       "      <td>0.417212</td>\n",
       "      <td>0.264119</td>\n",
       "    </tr>\n",
       "    <tr>\n",
       "      <th>Units</th>\n",
       "      <td>0.002808</td>\n",
       "      <td>-0.042111</td>\n",
       "      <td>1.000000</td>\n",
       "      <td>-0.046133</td>\n",
       "      <td>0.012887</td>\n",
       "      <td>0.043827</td>\n",
       "      <td>-0.046032</td>\n",
       "      <td>0.074070</td>\n",
       "      <td>0.005348</td>\n",
       "      <td>0.010163</td>\n",
       "      <td>-0.004573</td>\n",
       "      <td>0.025594</td>\n",
       "      <td>0.002475</td>\n",
       "      <td>0.020492</td>\n",
       "      <td>-0.022105</td>\n",
       "      <td>-0.011075</td>\n",
       "    </tr>\n",
       "    <tr>\n",
       "      <th>OCLTV</th>\n",
       "      <td>-0.190848</td>\n",
       "      <td>0.694789</td>\n",
       "      <td>-0.046133</td>\n",
       "      <td>1.000000</td>\n",
       "      <td>0.114853</td>\n",
       "      <td>0.106273</td>\n",
       "      <td>0.999470</td>\n",
       "      <td>0.095268</td>\n",
       "      <td>0.018560</td>\n",
       "      <td>0.065528</td>\n",
       "      <td>0.059811</td>\n",
       "      <td>-0.094299</td>\n",
       "      <td>-0.310735</td>\n",
       "      <td>-0.142061</td>\n",
       "      <td>0.390483</td>\n",
       "      <td>0.242708</td>\n",
       "    </tr>\n",
       "    <tr>\n",
       "      <th>DTI</th>\n",
       "      <td>-0.098740</td>\n",
       "      <td>0.111603</td>\n",
       "      <td>0.012887</td>\n",
       "      <td>0.114853</td>\n",
       "      <td>1.000000</td>\n",
       "      <td>0.063640</td>\n",
       "      <td>0.114468</td>\n",
       "      <td>0.105216</td>\n",
       "      <td>0.028005</td>\n",
       "      <td>0.062109</td>\n",
       "      <td>0.040830</td>\n",
       "      <td>-0.007732</td>\n",
       "      <td>-0.003264</td>\n",
       "      <td>-0.063646</td>\n",
       "      <td>0.065082</td>\n",
       "      <td>0.056925</td>\n",
       "    </tr>\n",
       "    <tr>\n",
       "      <th>OrigUPB</th>\n",
       "      <td>0.003770</td>\n",
       "      <td>0.006729</td>\n",
       "      <td>0.043827</td>\n",
       "      <td>0.106273</td>\n",
       "      <td>0.063640</td>\n",
       "      <td>1.000000</td>\n",
       "      <td>0.105722</td>\n",
       "      <td>-0.128563</td>\n",
       "      <td>-0.008008</td>\n",
       "      <td>-0.067605</td>\n",
       "      <td>-0.067243</td>\n",
       "      <td>-0.211698</td>\n",
       "      <td>-0.043511</td>\n",
       "      <td>0.014162</td>\n",
       "      <td>0.021267</td>\n",
       "      <td>-0.031918</td>\n",
       "    </tr>\n",
       "    <tr>\n",
       "      <th>LTV</th>\n",
       "      <td>-0.191080</td>\n",
       "      <td>0.695888</td>\n",
       "      <td>-0.046032</td>\n",
       "      <td>0.999470</td>\n",
       "      <td>0.114468</td>\n",
       "      <td>0.105722</td>\n",
       "      <td>1.000000</td>\n",
       "      <td>0.095520</td>\n",
       "      <td>0.018477</td>\n",
       "      <td>0.065735</td>\n",
       "      <td>0.059930</td>\n",
       "      <td>-0.094596</td>\n",
       "      <td>-0.310805</td>\n",
       "      <td>-0.141873</td>\n",
       "      <td>0.390355</td>\n",
       "      <td>0.242869</td>\n",
       "    </tr>\n",
       "    <tr>\n",
       "      <th>OrigInterestRate</th>\n",
       "      <td>-0.119472</td>\n",
       "      <td>0.124544</td>\n",
       "      <td>0.074070</td>\n",
       "      <td>0.095268</td>\n",
       "      <td>0.105216</td>\n",
       "      <td>-0.128563</td>\n",
       "      <td>0.095520</td>\n",
       "      <td>1.000000</td>\n",
       "      <td>0.010794</td>\n",
       "      <td>0.060418</td>\n",
       "      <td>0.051706</td>\n",
       "      <td>-0.120378</td>\n",
       "      <td>-0.013966</td>\n",
       "      <td>-0.015458</td>\n",
       "      <td>0.026452</td>\n",
       "      <td>0.038733</td>\n",
       "    </tr>\n",
       "    <tr>\n",
       "      <th>OrigLoanTerm</th>\n",
       "      <td>-0.008075</td>\n",
       "      <td>0.014834</td>\n",
       "      <td>0.005348</td>\n",
       "      <td>0.018560</td>\n",
       "      <td>0.028005</td>\n",
       "      <td>-0.008008</td>\n",
       "      <td>0.018477</td>\n",
       "      <td>0.010794</td>\n",
       "      <td>1.000000</td>\n",
       "      <td>0.010348</td>\n",
       "      <td>0.006567</td>\n",
       "      <td>0.016591</td>\n",
       "      <td>0.016022</td>\n",
       "      <td>-0.032148</td>\n",
       "      <td>0.018593</td>\n",
       "      <td>0.014915</td>\n",
       "    </tr>\n",
       "    <tr>\n",
       "      <th>EverDelinquent</th>\n",
       "      <td>-0.207204</td>\n",
       "      <td>0.059993</td>\n",
       "      <td>0.010163</td>\n",
       "      <td>0.065528</td>\n",
       "      <td>0.062109</td>\n",
       "      <td>-0.067605</td>\n",
       "      <td>0.065735</td>\n",
       "      <td>0.060418</td>\n",
       "      <td>0.010348</td>\n",
       "      <td>1.000000</td>\n",
       "      <td>0.420048</td>\n",
       "      <td>0.232497</td>\n",
       "      <td>0.017766</td>\n",
       "      <td>0.004577</td>\n",
       "      <td>-0.018847</td>\n",
       "      <td>0.002109</td>\n",
       "    </tr>\n",
       "    <tr>\n",
       "      <th>MonthsDelinquent</th>\n",
       "      <td>-0.150266</td>\n",
       "      <td>0.051204</td>\n",
       "      <td>-0.004573</td>\n",
       "      <td>0.059811</td>\n",
       "      <td>0.040830</td>\n",
       "      <td>-0.067243</td>\n",
       "      <td>0.059930</td>\n",
       "      <td>0.051706</td>\n",
       "      <td>0.006567</td>\n",
       "      <td>0.420048</td>\n",
       "      <td>1.000000</td>\n",
       "      <td>0.306631</td>\n",
       "      <td>0.008778</td>\n",
       "      <td>-0.000618</td>\n",
       "      <td>-0.006487</td>\n",
       "      <td>0.016278</td>\n",
       "    </tr>\n",
       "    <tr>\n",
       "      <th>MonthsInRepayment</th>\n",
       "      <td>-0.005127</td>\n",
       "      <td>-0.087802</td>\n",
       "      <td>0.025594</td>\n",
       "      <td>-0.094299</td>\n",
       "      <td>-0.007732</td>\n",
       "      <td>-0.211698</td>\n",
       "      <td>-0.094596</td>\n",
       "      <td>-0.120378</td>\n",
       "      <td>0.016591</td>\n",
       "      <td>0.232497</td>\n",
       "      <td>0.306631</td>\n",
       "      <td>1.000000</td>\n",
       "      <td>0.041157</td>\n",
       "      <td>0.010351</td>\n",
       "      <td>-0.043414</td>\n",
       "      <td>-0.006863</td>\n",
       "    </tr>\n",
       "    <tr>\n",
       "      <th>LoanPurpose_0</th>\n",
       "      <td>0.012689</td>\n",
       "      <td>-0.326432</td>\n",
       "      <td>0.002475</td>\n",
       "      <td>-0.310735</td>\n",
       "      <td>-0.003264</td>\n",
       "      <td>-0.043511</td>\n",
       "      <td>-0.310805</td>\n",
       "      <td>-0.013966</td>\n",
       "      <td>0.016022</td>\n",
       "      <td>0.017766</td>\n",
       "      <td>0.008778</td>\n",
       "      <td>0.041157</td>\n",
       "      <td>1.000000</td>\n",
       "      <td>-0.388238</td>\n",
       "      <td>-0.427186</td>\n",
       "      <td>-0.166372</td>\n",
       "    </tr>\n",
       "    <tr>\n",
       "      <th>LoanPurpose_1</th>\n",
       "      <td>-0.005176</td>\n",
       "      <td>-0.156375</td>\n",
       "      <td>0.020492</td>\n",
       "      <td>-0.142061</td>\n",
       "      <td>-0.063646</td>\n",
       "      <td>0.014162</td>\n",
       "      <td>-0.141873</td>\n",
       "      <td>-0.015458</td>\n",
       "      <td>-0.032148</td>\n",
       "      <td>0.004577</td>\n",
       "      <td>-0.000618</td>\n",
       "      <td>0.010351</td>\n",
       "      <td>-0.388238</td>\n",
       "      <td>1.000000</td>\n",
       "      <td>-0.667391</td>\n",
       "      <td>-0.260139</td>\n",
       "    </tr>\n",
       "    <tr>\n",
       "      <th>LoanPurpose_2</th>\n",
       "      <td>-0.005175</td>\n",
       "      <td>0.417212</td>\n",
       "      <td>-0.022105</td>\n",
       "      <td>0.390483</td>\n",
       "      <td>0.065082</td>\n",
       "      <td>0.021267</td>\n",
       "      <td>0.390355</td>\n",
       "      <td>0.026452</td>\n",
       "      <td>0.018593</td>\n",
       "      <td>-0.018847</td>\n",
       "      <td>-0.006487</td>\n",
       "      <td>-0.043414</td>\n",
       "      <td>-0.427186</td>\n",
       "      <td>-0.667391</td>\n",
       "      <td>1.000000</td>\n",
       "      <td>0.389673</td>\n",
       "    </tr>\n",
       "    <tr>\n",
       "      <th>FirstTimeHomebuyer_Y</th>\n",
       "      <td>-0.049881</td>\n",
       "      <td>0.264119</td>\n",
       "      <td>-0.011075</td>\n",
       "      <td>0.242708</td>\n",
       "      <td>0.056925</td>\n",
       "      <td>-0.031918</td>\n",
       "      <td>0.242869</td>\n",
       "      <td>0.038733</td>\n",
       "      <td>0.014915</td>\n",
       "      <td>0.002109</td>\n",
       "      <td>0.016278</td>\n",
       "      <td>-0.006863</td>\n",
       "      <td>-0.166372</td>\n",
       "      <td>-0.260139</td>\n",
       "      <td>0.389673</td>\n",
       "      <td>1.000000</td>\n",
       "    </tr>\n",
       "  </tbody>\n",
       "</table>\n",
       "</div>"
      ],
      "text/plain": [
       "                      CreditScore       MIP     Units     OCLTV       DTI  \\\n",
       "CreditScore              1.000000 -0.164376  0.002808 -0.190848 -0.098740   \n",
       "MIP                     -0.164376  1.000000 -0.042111  0.694789  0.111603   \n",
       "Units                    0.002808 -0.042111  1.000000 -0.046133  0.012887   \n",
       "OCLTV                   -0.190848  0.694789 -0.046133  1.000000  0.114853   \n",
       "DTI                     -0.098740  0.111603  0.012887  0.114853  1.000000   \n",
       "OrigUPB                  0.003770  0.006729  0.043827  0.106273  0.063640   \n",
       "LTV                     -0.191080  0.695888 -0.046032  0.999470  0.114468   \n",
       "OrigInterestRate        -0.119472  0.124544  0.074070  0.095268  0.105216   \n",
       "OrigLoanTerm            -0.008075  0.014834  0.005348  0.018560  0.028005   \n",
       "EverDelinquent          -0.207204  0.059993  0.010163  0.065528  0.062109   \n",
       "MonthsDelinquent        -0.150266  0.051204 -0.004573  0.059811  0.040830   \n",
       "MonthsInRepayment       -0.005127 -0.087802  0.025594 -0.094299 -0.007732   \n",
       "LoanPurpose_0            0.012689 -0.326432  0.002475 -0.310735 -0.003264   \n",
       "LoanPurpose_1           -0.005176 -0.156375  0.020492 -0.142061 -0.063646   \n",
       "LoanPurpose_2           -0.005175  0.417212 -0.022105  0.390483  0.065082   \n",
       "FirstTimeHomebuyer_Y    -0.049881  0.264119 -0.011075  0.242708  0.056925   \n",
       "\n",
       "                       OrigUPB       LTV  OrigInterestRate  OrigLoanTerm  \\\n",
       "CreditScore           0.003770 -0.191080         -0.119472     -0.008075   \n",
       "MIP                   0.006729  0.695888          0.124544      0.014834   \n",
       "Units                 0.043827 -0.046032          0.074070      0.005348   \n",
       "OCLTV                 0.106273  0.999470          0.095268      0.018560   \n",
       "DTI                   0.063640  0.114468          0.105216      0.028005   \n",
       "OrigUPB               1.000000  0.105722         -0.128563     -0.008008   \n",
       "LTV                   0.105722  1.000000          0.095520      0.018477   \n",
       "OrigInterestRate     -0.128563  0.095520          1.000000      0.010794   \n",
       "OrigLoanTerm         -0.008008  0.018477          0.010794      1.000000   \n",
       "EverDelinquent       -0.067605  0.065735          0.060418      0.010348   \n",
       "MonthsDelinquent     -0.067243  0.059930          0.051706      0.006567   \n",
       "MonthsInRepayment    -0.211698 -0.094596         -0.120378      0.016591   \n",
       "LoanPurpose_0        -0.043511 -0.310805         -0.013966      0.016022   \n",
       "LoanPurpose_1         0.014162 -0.141873         -0.015458     -0.032148   \n",
       "LoanPurpose_2         0.021267  0.390355          0.026452      0.018593   \n",
       "FirstTimeHomebuyer_Y -0.031918  0.242869          0.038733      0.014915   \n",
       "\n",
       "                      EverDelinquent  MonthsDelinquent  MonthsInRepayment  \\\n",
       "CreditScore                -0.207204         -0.150266          -0.005127   \n",
       "MIP                         0.059993          0.051204          -0.087802   \n",
       "Units                       0.010163         -0.004573           0.025594   \n",
       "OCLTV                       0.065528          0.059811          -0.094299   \n",
       "DTI                         0.062109          0.040830          -0.007732   \n",
       "OrigUPB                    -0.067605         -0.067243          -0.211698   \n",
       "LTV                         0.065735          0.059930          -0.094596   \n",
       "OrigInterestRate            0.060418          0.051706          -0.120378   \n",
       "OrigLoanTerm                0.010348          0.006567           0.016591   \n",
       "EverDelinquent              1.000000          0.420048           0.232497   \n",
       "MonthsDelinquent            0.420048          1.000000           0.306631   \n",
       "MonthsInRepayment           0.232497          0.306631           1.000000   \n",
       "LoanPurpose_0               0.017766          0.008778           0.041157   \n",
       "LoanPurpose_1               0.004577         -0.000618           0.010351   \n",
       "LoanPurpose_2              -0.018847         -0.006487          -0.043414   \n",
       "FirstTimeHomebuyer_Y        0.002109          0.016278          -0.006863   \n",
       "\n",
       "                      LoanPurpose_0  LoanPurpose_1  LoanPurpose_2  \\\n",
       "CreditScore                0.012689      -0.005176      -0.005175   \n",
       "MIP                       -0.326432      -0.156375       0.417212   \n",
       "Units                      0.002475       0.020492      -0.022105   \n",
       "OCLTV                     -0.310735      -0.142061       0.390483   \n",
       "DTI                       -0.003264      -0.063646       0.065082   \n",
       "OrigUPB                   -0.043511       0.014162       0.021267   \n",
       "LTV                       -0.310805      -0.141873       0.390355   \n",
       "OrigInterestRate          -0.013966      -0.015458       0.026452   \n",
       "OrigLoanTerm               0.016022      -0.032148       0.018593   \n",
       "EverDelinquent             0.017766       0.004577      -0.018847   \n",
       "MonthsDelinquent           0.008778      -0.000618      -0.006487   \n",
       "MonthsInRepayment          0.041157       0.010351      -0.043414   \n",
       "LoanPurpose_0              1.000000      -0.388238      -0.427186   \n",
       "LoanPurpose_1             -0.388238       1.000000      -0.667391   \n",
       "LoanPurpose_2             -0.427186      -0.667391       1.000000   \n",
       "FirstTimeHomebuyer_Y      -0.166372      -0.260139       0.389673   \n",
       "\n",
       "                      FirstTimeHomebuyer_Y  \n",
       "CreditScore                      -0.049881  \n",
       "MIP                               0.264119  \n",
       "Units                            -0.011075  \n",
       "OCLTV                             0.242708  \n",
       "DTI                               0.056925  \n",
       "OrigUPB                          -0.031918  \n",
       "LTV                               0.242869  \n",
       "OrigInterestRate                  0.038733  \n",
       "OrigLoanTerm                      0.014915  \n",
       "EverDelinquent                    0.002109  \n",
       "MonthsDelinquent                  0.016278  \n",
       "MonthsInRepayment                -0.006863  \n",
       "LoanPurpose_0                    -0.166372  \n",
       "LoanPurpose_1                    -0.260139  \n",
       "LoanPurpose_2                     0.389673  \n",
       "FirstTimeHomebuyer_Y              1.000000  "
      ]
     },
     "execution_count": 63,
     "metadata": {},
     "output_type": "execute_result"
    }
   ],
   "source": [
    "#draw the correlation matrix to see the relationship between variables\n",
    "df.corr()"
   ]
  },
  {
   "cell_type": "code",
   "execution_count": 64,
   "metadata": {
    "colab": {
     "base_uri": "https://localhost:8080/",
     "height": 537
    },
    "id": "-OkKWMYdP3qx",
    "outputId": "7df2cc38-f51b-480c-8628-1d38b5a29c30"
   },
   "outputs": [
    {
     "data": {
      "image/png": "[encoded data removed]",
      "text/plain": [
       "<Figure size 720x504 with 2 Axes>"
      ]
     },
     "metadata": {
      "needs_background": "light"
     },
     "output_type": "display_data"
    }
   ],
   "source": [
    "#sns.heatmap(data.corr(),cmap='coolwarm',annot=True)\n",
    "#show the correlation between data's features using heat map\n",
    "# Generate correlation matrix\n",
    "corr_matrix = df.corr()\n",
    "\n",
    "# Set figure size\n",
    "plt.figure(figsize=(10,7))\n",
    "\n",
    "# Create heatmap with correlation matrix\n",
    "sns.heatmap(corr_matrix, cmap='coolwarm', annot=True)\n",
    "\n",
    "# Show plot\n",
    "plt.show()"
   ]
  },
  {
   "cell_type": "code",
   "execution_count": 65,
   "metadata": {
    "colab": {
     "base_uri": "https://localhost:8080/",
     "height": 391
    },
    "id": "jRRG3RTfS-iB",
    "outputId": "756be2bb-6791-4116-aba6-4621ccff1d91",
    "scrolled": true
   },
   "outputs": [
    {
     "data": {
      "text/plain": [
       "<AxesSubplot:>"
      ]
     },
     "execution_count": 65,
     "metadata": {},
     "output_type": "execute_result"
    },
    {
     "data": {
      "image/png": "[encoded data removed]",
      "text/plain": [
       "<Figure size 432x288 with 2 Axes>"
      ]
     },
     "metadata": {
      "needs_background": "light"
     },
     "output_type": "display_data"
    }
   ],
   "source": [
    "sns.heatmap(df.corr(),cmap='rocket')"
   ]
  },
  {
   "cell_type": "markdown",
   "metadata": {
    "id": "ZLJSY8BGp4Wg"
   },
   "source": [
    "## Handling Outliers"
   ]
  },
  {
   "cell_type": "code",
   "execution_count": 67,
   "metadata": {
    "colab": {
     "base_uri": "https://localhost:8080/",
     "height": 282
    },
    "id": "er2hovxtI0bu",
    "outputId": "18774a38-52c9-49f0-aeef-55f9ca9c79f8",
    "scrolled": true
   },
   "outputs": [
    {
     "data": {
      "text/plain": [
       "<AxesSubplot:>"
      ]
     },
     "execution_count": 67,
     "metadata": {},
     "output_type": "execute_result"
    },
    {
     "data": {
      "image/png": "[encoded data removed]",
      "text/plain": [
       "<Figure size 432x288 with 1 Axes>"
      ]
     },
     "metadata": {
      "needs_background": "light"
     },
     "output_type": "display_data"
    }
   ],
   "source": [
    "sns.boxplot(data=df,palette='rainbow',orient='h')\n",
    "#box plot to all features to show outliers"
   ]
  },
  {
   "cell_type": "code",
   "execution_count": 567,
   "metadata": {
    "id": "2nP_dxapp4Wh"
   },
   "outputs": [],
   "source": [
    "#view individual boxplots to visualise outliers"
   ]
  },
  {
   "cell_type": "code",
   "execution_count": 70,
   "metadata": {},
   "outputs": [],
   "source": [
    "#Function to draw boxplot\n",
    "def draw_boxplot(col):\n",
    "  sns.boxplot(data[col]) "
   ]
  },
  {
   "cell_type": "code",
   "execution_count": 71,
   "metadata": {
    "colab": {
     "base_uri": "https://localhost:8080/",
     "height": 368
    },
    "id": "7RzR4WlrJHiv",
    "outputId": "44202960-058c-4790-e929-45c78cd9e68f"
   },
   "outputs": [
    {
     "name": "stderr",
     "output_type": "stream",
     "text": [
      "C:\\ProgramData\\Anaconda3\\lib\\site-packages\\seaborn\\_decorators.py:36: FutureWarning: Pass the following variable as a keyword arg: x. From version 0.12, the only valid positional argument will be `data`, and passing other arguments without an explicit keyword will result in an error or misinterpretation.\n",
      "  warnings.warn(\n"
     ]
    },
    {
     "data": {
      "image/png": "[encoded data removed]",
      "text/plain": [
       "<Figure size 432x288 with 1 Axes>"
      ]
     },
     "metadata": {
      "needs_background": "light"
     },
     "output_type": "display_data"
    }
   ],
   "source": [
    "draw_boxplot('OrigUPB')"
   ]
  },
  {
   "cell_type": "code",
   "execution_count": 73,
   "metadata": {
    "id": "-3vLyuAmJQqe"
   },
   "outputs": [],
   "source": [
    "#drop outliers\n",
    "def handle_outlier(col):\n",
    "  sorted(col)\n",
    "  Q1,Q3=col.quantile([0.25,0.75])\n",
    "  IQR=Q3-Q1\n",
    "  lower=Q1-(1.5*IQR)\n",
    "  upper=Q3+(1.5*IQR)\n",
    "  return lower , upper\n",
    "upp,low=handle_outlier(df['OrigUPB'])"
   ]
  },
  {
   "cell_type": "code",
   "execution_count": 74,
   "metadata": {
    "id": "VSIbeOHzO1fV"
   },
   "outputs": [],
   "source": [
    "df['OrigUPB']=np.where(df['OrigUPB']>upp,upp,df['OrigUPB'])\n",
    "df['OrigUPB']=np.where(df['OrigUPB']<low,low,df['OrigUPB'])"
   ]
  },
  {
   "cell_type": "code",
   "execution_count": 75,
   "metadata": {
    "colab": {
     "base_uri": "https://localhost:8080/",
     "height": 368
    },
    "id": "QDaqK24HwURv",
    "outputId": "40e25d8e-5674-4783-a001-78866354c109"
   },
   "outputs": [
    {
     "name": "stderr",
     "output_type": "stream",
     "text": [
      "C:\\ProgramData\\Anaconda3\\lib\\site-packages\\seaborn\\_decorators.py:36: FutureWarning: Pass the following variable as a keyword arg: x. From version 0.12, the only valid positional argument will be `data`, and passing other arguments without an explicit keyword will result in an error or misinterpretation.\n",
      "  warnings.warn(\n"
     ]
    },
    {
     "data": {
      "image/png": "[encoded data removed]",
      "text/plain": [
       "<Figure size 432x288 with 1 Axes>"
      ]
     },
     "metadata": {
      "needs_background": "light"
     },
     "output_type": "display_data"
    }
   ],
   "source": [
    "draw_boxplot('Units')"
   ]
  },
  {
   "cell_type": "code",
   "execution_count": 76,
   "metadata": {
    "id": "5HSmZHSVwZoP"
   },
   "outputs": [],
   "source": [
    "upper,lower=handle_outlier(df['Units'])"
   ]
  },
  {
   "cell_type": "code",
   "execution_count": 77,
   "metadata": {
    "id": "Ii_tlqYmwggo"
   },
   "outputs": [],
   "source": [
    "df['Units']=np.where(df['Units']>upper,upper,df['Units'])\n",
    "df['Units']=np.where(df['Units']<lower,lower,df['Units'])"
   ]
  },
  {
   "cell_type": "code",
   "execution_count": 78,
   "metadata": {
    "colab": {
     "base_uri": "https://localhost:8080/",
     "height": 368
    },
    "id": "weZz79GgwsRw",
    "outputId": "f1cedd3f-6852-43fd-b664-ced33a526b12"
   },
   "outputs": [
    {
     "name": "stderr",
     "output_type": "stream",
     "text": [
      "C:\\ProgramData\\Anaconda3\\lib\\site-packages\\seaborn\\_decorators.py:36: FutureWarning: Pass the following variable as a keyword arg: x. From version 0.12, the only valid positional argument will be `data`, and passing other arguments without an explicit keyword will result in an error or misinterpretation.\n",
      "  warnings.warn(\n"
     ]
    },
    {
     "data": {
      "image/png": "[encoded data removed]",
      "text/plain": [
       "<Figure size 432x288 with 1 Axes>"
      ]
     },
     "metadata": {
      "needs_background": "light"
     },
     "output_type": "display_data"
    }
   ],
   "source": [
    "draw_boxplot('OrigInterestRate')"
   ]
  },
  {
   "cell_type": "code",
   "execution_count": 79,
   "metadata": {
    "id": "dlBmik5Mw3iW"
   },
   "outputs": [],
   "source": [
    "uppero,lowero=handle_outlier(df['OrigInterestRate'])"
   ]
  },
  {
   "cell_type": "code",
   "execution_count": 80,
   "metadata": {
    "id": "PxPRR1ycw5Se"
   },
   "outputs": [],
   "source": [
    "df['OrigInterestRate']=np.where(df['OrigInterestRate']>uppero,uppero,df['OrigInterestRate'])\n",
    "df['OrigInterestRate']=np.where(df['OrigInterestRate']<lowero,lowero,df['OrigInterestRate'])"
   ]
  },
  {
   "cell_type": "code",
   "execution_count": 81,
   "metadata": {
    "colab": {
     "base_uri": "https://localhost:8080/"
    },
    "id": "b7JcgmsCUmgA",
    "outputId": "c85ae63f-dbbd-4f2a-e7d6-723253eed98e"
   },
   "outputs": [
    {
     "name": "stdout",
     "output_type": "stream",
     "text": [
      "2138\n"
     ]
    }
   ],
   "source": [
    "#checking for duplicates values to drop them\n",
    "duplicate=df.duplicated()\n",
    "print(duplicate.sum())"
   ]
  },
  {
   "cell_type": "code",
   "execution_count": 82,
   "metadata": {
    "id": "VSHYE1ClUS_Q"
   },
   "outputs": [],
   "source": [
    "data=df.drop_duplicates()"
   ]
  },
  {
   "cell_type": "code",
   "execution_count": 84,
   "metadata": {
    "colab": {
     "base_uri": "https://localhost:8080/"
    },
    "id": "R3zBXsw-Uh-3",
    "outputId": "a6237a5c-d0cb-4711-f068-1546ab8f18fe"
   },
   "outputs": [
    {
     "name": "stdout",
     "output_type": "stream",
     "text": [
      "0\n"
     ]
    }
   ],
   "source": [
    "duplicate=data.duplicated()\n",
    "print(duplicate.sum())"
   ]
  },
  {
   "cell_type": "code",
   "execution_count": 85,
   "metadata": {},
   "outputs": [
    {
     "data": {
      "text/plain": [
       "(289313, 16)"
      ]
     },
     "execution_count": 85,
     "metadata": {},
     "output_type": "execute_result"
    }
   ],
   "source": [
    "data.shape"
   ]
  },
  {
   "cell_type": "code",
   "execution_count": 88,
   "metadata": {},
   "outputs": [
    {
     "data": {
      "text/html": [
       "<div>\n",
       "<style scoped>\n",
       "    .dataframe tbody tr th:only-of-type {\n",
       "        vertical-align: middle;\n",
       "    }\n",
       "\n",
       "    .dataframe tbody tr th {\n",
       "        vertical-align: top;\n",
       "    }\n",
       "\n",
       "    .dataframe thead th {\n",
       "        text-align: right;\n",
       "    }\n",
       "</style>\n",
       "<table border=\"1\" class=\"dataframe\">\n",
       "  <thead>\n",
       "    <tr style=\"text-align: right;\">\n",
       "      <th></th>\n",
       "      <th>CreditScore</th>\n",
       "      <th>MIP</th>\n",
       "      <th>Units</th>\n",
       "      <th>OCLTV</th>\n",
       "      <th>DTI</th>\n",
       "      <th>OrigUPB</th>\n",
       "      <th>LTV</th>\n",
       "      <th>OrigInterestRate</th>\n",
       "      <th>OrigLoanTerm</th>\n",
       "      <th>EverDelinquent</th>\n",
       "      <th>MonthsDelinquent</th>\n",
       "      <th>MonthsInRepayment</th>\n",
       "      <th>LoanPurpose_0</th>\n",
       "      <th>LoanPurpose_1</th>\n",
       "      <th>LoanPurpose_2</th>\n",
       "      <th>FirstTimeHomebuyer_Y</th>\n",
       "    </tr>\n",
       "  </thead>\n",
       "  <tbody>\n",
       "    <tr>\n",
       "      <th>0</th>\n",
       "      <td>0</td>\n",
       "      <td>25</td>\n",
       "      <td>1.0</td>\n",
       "      <td>89</td>\n",
       "      <td>27</td>\n",
       "      <td>275500.0</td>\n",
       "      <td>89</td>\n",
       "      <td>7.6875</td>\n",
       "      <td>360</td>\n",
       "      <td>0</td>\n",
       "      <td>0</td>\n",
       "      <td>52</td>\n",
       "      <td>0</td>\n",
       "      <td>0</td>\n",
       "      <td>1</td>\n",
       "      <td>0</td>\n",
       "    </tr>\n",
       "    <tr>\n",
       "      <th>1</th>\n",
       "      <td>0</td>\n",
       "      <td>0</td>\n",
       "      <td>1.0</td>\n",
       "      <td>73</td>\n",
       "      <td>17</td>\n",
       "      <td>275500.0</td>\n",
       "      <td>73</td>\n",
       "      <td>7.6875</td>\n",
       "      <td>360</td>\n",
       "      <td>0</td>\n",
       "      <td>0</td>\n",
       "      <td>144</td>\n",
       "      <td>0</td>\n",
       "      <td>1</td>\n",
       "      <td>0</td>\n",
       "      <td>0</td>\n",
       "    </tr>\n",
       "    <tr>\n",
       "      <th>2</th>\n",
       "      <td>0</td>\n",
       "      <td>0</td>\n",
       "      <td>1.0</td>\n",
       "      <td>75</td>\n",
       "      <td>16</td>\n",
       "      <td>275500.0</td>\n",
       "      <td>75</td>\n",
       "      <td>7.6875</td>\n",
       "      <td>360</td>\n",
       "      <td>0</td>\n",
       "      <td>0</td>\n",
       "      <td>67</td>\n",
       "      <td>0</td>\n",
       "      <td>1</td>\n",
       "      <td>0</td>\n",
       "      <td>0</td>\n",
       "    </tr>\n",
       "    <tr>\n",
       "      <th>3</th>\n",
       "      <td>0</td>\n",
       "      <td>0</td>\n",
       "      <td>1.0</td>\n",
       "      <td>76</td>\n",
       "      <td>14</td>\n",
       "      <td>275500.0</td>\n",
       "      <td>76</td>\n",
       "      <td>7.6875</td>\n",
       "      <td>360</td>\n",
       "      <td>0</td>\n",
       "      <td>0</td>\n",
       "      <td>35</td>\n",
       "      <td>0</td>\n",
       "      <td>1</td>\n",
       "      <td>0</td>\n",
       "      <td>0</td>\n",
       "    </tr>\n",
       "    <tr>\n",
       "      <th>4</th>\n",
       "      <td>0</td>\n",
       "      <td>0</td>\n",
       "      <td>1.0</td>\n",
       "      <td>78</td>\n",
       "      <td>18</td>\n",
       "      <td>275500.0</td>\n",
       "      <td>78</td>\n",
       "      <td>7.6875</td>\n",
       "      <td>360</td>\n",
       "      <td>0</td>\n",
       "      <td>0</td>\n",
       "      <td>54</td>\n",
       "      <td>0</td>\n",
       "      <td>1</td>\n",
       "      <td>0</td>\n",
       "      <td>0</td>\n",
       "    </tr>\n",
       "  </tbody>\n",
       "</table>\n",
       "</div>"
      ],
      "text/plain": [
       "   CreditScore  MIP  Units  OCLTV  DTI   OrigUPB  LTV  OrigInterestRate  \\\n",
       "0            0   25    1.0     89   27  275500.0   89            7.6875   \n",
       "1            0    0    1.0     73   17  275500.0   73            7.6875   \n",
       "2            0    0    1.0     75   16  275500.0   75            7.6875   \n",
       "3            0    0    1.0     76   14  275500.0   76            7.6875   \n",
       "4            0    0    1.0     78   18  275500.0   78            7.6875   \n",
       "\n",
       "   OrigLoanTerm  EverDelinquent  MonthsDelinquent  MonthsInRepayment  \\\n",
       "0           360               0                 0                 52   \n",
       "1           360               0                 0                144   \n",
       "2           360               0                 0                 67   \n",
       "3           360               0                 0                 35   \n",
       "4           360               0                 0                 54   \n",
       "\n",
       "   LoanPurpose_0  LoanPurpose_1  LoanPurpose_2  FirstTimeHomebuyer_Y  \n",
       "0              0              0              1                     0  \n",
       "1              0              1              0                     0  \n",
       "2              0              1              0                     0  \n",
       "3              0              1              0                     0  \n",
       "4              0              1              0                     0  "
      ]
     },
     "execution_count": 88,
     "metadata": {},
     "output_type": "execute_result"
    }
   ],
   "source": [
    "data.head()"
   ]
  }
 ],
 "metadata": {
  "colab": {
   "provenance": []
  },
  "kernelspec": {
   "display_name": "Python 3",
   "language": "python",
   "name": "python3"
  },
  "language_info": {
   "codemirror_mode": {
    "name": "ipython",
    "version": 3
   },
   "file_extension": ".py",
   "mimetype": "text/x-python",
   "name": "python",
   "nbconvert_exporter": "python",
   "pygments_lexer": "ipython3",
   "version": "3.8.8"
  },
  "widgets": {
   "application/vnd.jupyter.widget-state+json": {
    "024a9eba58a44fa29d7370fc532e713e": {
     "model_module": "@jupyter-widgets/base",
     "model_module_version": "1.2.0",
     "model_name": "LayoutModel",
     "state": {
      "_model_module": "@jupyter-widgets/base",
      "_model_module_version": "1.2.0",
      "_model_name": "LayoutModel",
      "_view_count": null,
      "_view_module": "@jupyter-widgets/base",
      "_view_module_version": "1.2.0",
      "_view_name": "LayoutView",
      "align_content": null,
      "align_items": null,
      "align_self": null,
      "border": null,
      "bottom": null,
      "display": null,
      "flex": null,
      "flex_flow": null,
      "grid_area": null,
      "grid_auto_columns": null,
      "grid_auto_flow": null,
      "grid_auto_rows": null,
      "grid_column": null,
      "grid_gap": null,
      "grid_row": null,
      "grid_template_areas": null,
      "grid_template_columns": null,
      "grid_template_rows": null,
      "height": null,
      "justify_content": null,
      "justify_items": null,
      "left": null,
      "margin": null,
      "max_height": null,
      "max_width": null,
      "min_height": null,
      "min_width": null,
      "object_fit": null,
      "object_position": null,
      "order": null,
      "overflow": null,
      "overflow_x": null,
      "overflow_y": null,
      "padding": null,
      "right": null,
      "top": null,
      "visibility": null,
      "width": null
     }
    },
    "07ce5ab9e18649f3a5c31a269ef52112": {
     "model_module": "@jupyter-widgets/base",
     "model_module_version": "1.2.0",
     "model_name": "LayoutModel",
     "state": {
      "_model_module": "@jupyter-widgets/base",
      "_model_module_version": "1.2.0",
      "_model_name": "LayoutModel",
      "_view_count": null,
      "_view_module": "@jupyter-widgets/base",
      "_view_module_version": "1.2.0",
      "_view_name": "LayoutView",
      "align_content": null,
      "align_items": null,
      "align_self": null,
      "border": null,
      "bottom": null,
      "display": null,
      "flex": null,
      "flex_flow": null,
      "grid_area": null,
      "grid_auto_columns": null,
      "grid_auto_flow": null,
      "grid_auto_rows": null,
      "grid_column": null,
      "grid_gap": null,
      "grid_row": null,
      "grid_template_areas": null,
      "grid_template_columns": null,
      "grid_template_rows": null,
      "height": null,
      "justify_content": null,
      "justify_items": null,
      "left": null,
      "margin": null,
      "max_height": null,
      "max_width": null,
      "min_height": null,
      "min_width": null,
      "object_fit": null,
      "object_position": null,
      "order": null,
      "overflow": null,
      "overflow_x": null,
      "overflow_y": null,
      "padding": null,
      "right": null,
      "top": null,
      "visibility": null,
      "width": null
     }
    },
    "0d73778ff76949a9b807b8fa343b2ec0": {
     "model_module": "@jupyter-widgets/controls",
     "model_module_version": "1.5.0",
     "model_name": "DescriptionStyleModel",
     "state": {
      "_model_module": "@jupyter-widgets/controls",
      "_model_module_version": "1.5.0",
      "_model_name": "DescriptionStyleModel",
      "_view_count": null,
      "_view_module": "@jupyter-widgets/base",
      "_view_module_version": "1.2.0",
      "_view_name": "StyleView",
      "description_width": ""
     }
    },
    "136899abb8d047449c5616aaa4fdb1cc": {
     "model_module": "@jupyter-widgets/base",
     "model_module_version": "1.2.0",
     "model_name": "LayoutModel",
     "state": {
      "_model_module": "@jupyter-widgets/base",
      "_model_module_version": "1.2.0",
      "_model_name": "LayoutModel",
      "_view_count": null,
      "_view_module": "@jupyter-widgets/base",
      "_view_module_version": "1.2.0",
      "_view_name": "LayoutView",
      "align_content": null,
      "align_items": null,
      "align_self": null,
      "border": null,
      "bottom": null,
      "display": null,
      "flex": null,
      "flex_flow": null,
      "grid_area": null,
      "grid_auto_columns": null,
      "grid_auto_flow": null,
      "grid_auto_rows": null,
      "grid_column": null,
      "grid_gap": null,
      "grid_row": null,
      "grid_template_areas": null,
      "grid_template_columns": null,
      "grid_template_rows": null,
      "height": null,
      "justify_content": null,
      "justify_items": null,
      "left": null,
      "margin": null,
      "max_height": null,
      "max_width": null,
      "min_height": null,
      "min_width": null,
      "object_fit": null,
      "object_position": null,
      "order": null,
      "overflow": null,
      "overflow_x": null,
      "overflow_y": null,
      "padding": null,
      "right": null,
      "top": null,
      "visibility": null,
      "width": null
     }
    },
    "227514f1d9d94b9996756fd6bbc86b4a": {
     "model_module": "@jupyter-widgets/base",
     "model_module_version": "1.2.0",
     "model_name": "LayoutModel",
     "state": {
      "_model_module": "@jupyter-widgets/base",
      "_model_module_version": "1.2.0",
      "_model_name": "LayoutModel",
      "_view_count": null,
      "_view_module": "@jupyter-widgets/base",
      "_view_module_version": "1.2.0",
      "_view_name": "LayoutView",
      "align_content": null,
      "align_items": null,
      "align_self": null,
      "border": null,
      "bottom": null,
      "display": null,
      "flex": null,
      "flex_flow": null,
      "grid_area": null,
      "grid_auto_columns": null,
      "grid_auto_flow": null,
      "grid_auto_rows": null,
      "grid_column": null,
      "grid_gap": null,
      "grid_row": null,
      "grid_template_areas": null,
      "grid_template_columns": null,
      "grid_template_rows": null,
      "height": null,
      "justify_content": null,
      "justify_items": null,
      "left": null,
      "margin": null,
      "max_height": null,
      "max_width": null,
      "min_height": null,
      "min_width": null,
      "object_fit": null,
      "object_position": null,
      "order": null,
      "overflow": null,
      "overflow_x": null,
      "overflow_y": null,
      "padding": null,
      "right": null,
      "top": null,
      "visibility": null,
      "width": null
     }
    },
    "232c914fb1dc4277b12bcbfb24f82408": {
     "model_module": "@jupyter-widgets/controls",
     "model_module_version": "1.5.0",
     "model_name": "FloatProgressModel",
     "state": {
      "_dom_classes": [],
      "_model_module": "@jupyter-widgets/controls",
      "_model_module_version": "1.5.0",
      "_model_name": "FloatProgressModel",
      "_view_count": null,
      "_view_module": "@jupyter-widgets/controls",
      "_view_module_version": "1.5.0",
      "_view_name": "ProgressView",
      "bar_style": "success",
      "description": "",
      "description_tooltip": null,
      "layout": "IPY_MODEL_07ce5ab9e18649f3a5c31a269ef52112",
      "max": 5,
      "min": 0,
      "orientation": "horizontal",
      "style": "IPY_MODEL_ab0943e7b0174c38b84962eba777c4ff",
      "value": 5
     }
    },
    "3c434036191a4a75a9bdda7daa8a370b": {
     "model_module": "@jupyter-widgets/base",
     "model_module_version": "1.2.0",
     "model_name": "LayoutModel",
     "state": {
      "_model_module": "@jupyter-widgets/base",
      "_model_module_version": "1.2.0",
      "_model_name": "LayoutModel",
      "_view_count": null,
      "_view_module": "@jupyter-widgets/base",
      "_view_module_version": "1.2.0",
      "_view_name": "LayoutView",
      "align_content": null,
      "align_items": null,
      "align_self": null,
      "border": null,
      "bottom": null,
      "display": null,
      "flex": null,
      "flex_flow": null,
      "grid_area": null,
      "grid_auto_columns": null,
      "grid_auto_flow": null,
      "grid_auto_rows": null,
      "grid_column": null,
      "grid_gap": null,
      "grid_row": null,
      "grid_template_areas": null,
      "grid_template_columns": null,
      "grid_template_rows": null,
      "height": null,
      "justify_content": null,
      "justify_items": null,
      "left": null,
      "margin": null,
      "max_height": null,
      "max_width": null,
      "min_height": null,
      "min_width": null,
      "object_fit": null,
      "object_position": null,
      "order": null,
      "overflow": null,
      "overflow_x": null,
      "overflow_y": null,
      "padding": null,
      "right": null,
      "top": null,
      "visibility": null,
      "width": null
     }
    },
    "45dc76f5d46846c8868424f89a122ac5": {
     "model_module": "@jupyter-widgets/controls",
     "model_module_version": "1.5.0",
     "model_name": "DescriptionStyleModel",
     "state": {
      "_model_module": "@jupyter-widgets/controls",
      "_model_module_version": "1.5.0",
      "_model_name": "DescriptionStyleModel",
      "_view_count": null,
      "_view_module": "@jupyter-widgets/base",
      "_view_module_version": "1.2.0",
      "_view_name": "StyleView",
      "description_width": ""
     }
    },
    "46a0e1d4ec184ecba14169d142a1af67": {
     "model_module": "@jupyter-widgets/controls",
     "model_module_version": "1.5.0",
     "model_name": "ProgressStyleModel",
     "state": {
      "_model_module": "@jupyter-widgets/controls",
      "_model_module_version": "1.5.0",
      "_model_name": "ProgressStyleModel",
      "_view_count": null,
      "_view_module": "@jupyter-widgets/base",
      "_view_module_version": "1.2.0",
      "_view_name": "StyleView",
      "bar_color": null,
      "description_width": ""
     }
    },
    "5397aa84c5834abeab404cd12955903e": {
     "model_module": "@jupyter-widgets/controls",
     "model_module_version": "1.5.0",
     "model_name": "HTMLModel",
     "state": {
      "_dom_classes": [],
      "_model_module": "@jupyter-widgets/controls",
      "_model_module_version": "1.5.0",
      "_model_name": "HTMLModel",
      "_view_count": null,
      "_view_module": "@jupyter-widgets/controls",
      "_view_module_version": "1.5.0",
      "_view_name": "HTMLView",
      "description": "",
      "description_tooltip": null,
      "layout": "IPY_MODEL_da8359c146dd4b05af8c481306502277",
      "placeholder": "​",
      "style": "IPY_MODEL_0d73778ff76949a9b807b8fa343b2ec0",
      "value": "Render HTML: 100%"
     }
    },
    "674fdf5f9b8742c391a518a102f0dc51": {
     "model_module": "@jupyter-widgets/controls",
     "model_module_version": "1.5.0",
     "model_name": "HTMLModel",
     "state": {
      "_dom_classes": [],
      "_model_module": "@jupyter-widgets/controls",
      "_model_module_version": "1.5.0",
      "_model_name": "HTMLModel",
      "_view_count": null,
      "_view_module": "@jupyter-widgets/controls",
      "_view_module_version": "1.5.0",
      "_view_name": "HTMLView",
      "description": "",
      "description_tooltip": null,
      "layout": "IPY_MODEL_935b2e5e0cbf4cfd88845f84ce5ed59e",
      "placeholder": "​",
      "style": "IPY_MODEL_76b6167982ea4b0bb7ead342c30b3065",
      "value": "Generate report structure: 100%"
     }
    },
    "76b6167982ea4b0bb7ead342c30b3065": {
     "model_module": "@jupyter-widgets/controls",
     "model_module_version": "1.5.0",
     "model_name": "DescriptionStyleModel",
     "state": {
      "_model_module": "@jupyter-widgets/controls",
      "_model_module_version": "1.5.0",
      "_model_name": "DescriptionStyleModel",
      "_view_count": null,
      "_view_module": "@jupyter-widgets/base",
      "_view_module_version": "1.2.0",
      "_view_name": "StyleView",
      "description_width": ""
     }
    },
    "76cfdd1ccdf64ccb95ee36ca5ae303e0": {
     "model_module": "@jupyter-widgets/base",
     "model_module_version": "1.2.0",
     "model_name": "LayoutModel",
     "state": {
      "_model_module": "@jupyter-widgets/base",
      "_model_module_version": "1.2.0",
      "_model_name": "LayoutModel",
      "_view_count": null,
      "_view_module": "@jupyter-widgets/base",
      "_view_module_version": "1.2.0",
      "_view_name": "LayoutView",
      "align_content": null,
      "align_items": null,
      "align_self": null,
      "border": null,
      "bottom": null,
      "display": null,
      "flex": null,
      "flex_flow": null,
      "grid_area": null,
      "grid_auto_columns": null,
      "grid_auto_flow": null,
      "grid_auto_rows": null,
      "grid_column": null,
      "grid_gap": null,
      "grid_row": null,
      "grid_template_areas": null,
      "grid_template_columns": null,
      "grid_template_rows": null,
      "height": null,
      "justify_content": null,
      "justify_items": null,
      "left": null,
      "margin": null,
      "max_height": null,
      "max_width": null,
      "min_height": null,
      "min_width": null,
      "object_fit": null,
      "object_position": null,
      "order": null,
      "overflow": null,
      "overflow_x": null,
      "overflow_y": null,
      "padding": null,
      "right": null,
      "top": null,
      "visibility": null,
      "width": null
     }
    },
    "773cc428f97f49059bd271eecf7ae41e": {
     "model_module": "@jupyter-widgets/controls",
     "model_module_version": "1.5.0",
     "model_name": "HTMLModel",
     "state": {
      "_dom_classes": [],
      "_model_module": "@jupyter-widgets/controls",
      "_model_module_version": "1.5.0",
      "_model_name": "HTMLModel",
      "_view_count": null,
      "_view_module": "@jupyter-widgets/controls",
      "_view_module_version": "1.5.0",
      "_view_name": "HTMLView",
      "description": "",
      "description_tooltip": null,
      "layout": "IPY_MODEL_89d62978935944508219a7eb314a691b",
      "placeholder": "​",
      "style": "IPY_MODEL_45dc76f5d46846c8868424f89a122ac5",
      "value": " 1/1 [00:02&lt;00:00,  2.99s/it]"
     }
    },
    "88299fd706914ca1b776f69613b7c986": {
     "model_module": "@jupyter-widgets/controls",
     "model_module_version": "1.5.0",
     "model_name": "ProgressStyleModel",
     "state": {
      "_model_module": "@jupyter-widgets/controls",
      "_model_module_version": "1.5.0",
      "_model_name": "ProgressStyleModel",
      "_view_count": null,
      "_view_module": "@jupyter-widgets/base",
      "_view_module_version": "1.2.0",
      "_view_name": "StyleView",
      "bar_color": null,
      "description_width": ""
     }
    },
    "89d62978935944508219a7eb314a691b": {
     "model_module": "@jupyter-widgets/base",
     "model_module_version": "1.2.0",
     "model_name": "LayoutModel",
     "state": {
      "_model_module": "@jupyter-widgets/base",
      "_model_module_version": "1.2.0",
      "_model_name": "LayoutModel",
      "_view_count": null,
      "_view_module": "@jupyter-widgets/base",
      "_view_module_version": "1.2.0",
      "_view_name": "LayoutView",
      "align_content": null,
      "align_items": null,
      "align_self": null,
      "border": null,
      "bottom": null,
      "display": null,
      "flex": null,
      "flex_flow": null,
      "grid_area": null,
      "grid_auto_columns": null,
      "grid_auto_flow": null,
      "grid_auto_rows": null,
      "grid_column": null,
      "grid_gap": null,
      "grid_row": null,
      "grid_template_areas": null,
      "grid_template_columns": null,
      "grid_template_rows": null,
      "height": null,
      "justify_content": null,
      "justify_items": null,
      "left": null,
      "margin": null,
      "max_height": null,
      "max_width": null,
      "min_height": null,
      "min_width": null,
      "object_fit": null,
      "object_position": null,
      "order": null,
      "overflow": null,
      "overflow_x": null,
      "overflow_y": null,
      "padding": null,
      "right": null,
      "top": null,
      "visibility": null,
      "width": null
     }
    },
    "935b2e5e0cbf4cfd88845f84ce5ed59e": {
     "model_module": "@jupyter-widgets/base",
     "model_module_version": "1.2.0",
     "model_name": "LayoutModel",
     "state": {
      "_model_module": "@jupyter-widgets/base",
      "_model_module_version": "1.2.0",
      "_model_name": "LayoutModel",
      "_view_count": null,
      "_view_module": "@jupyter-widgets/base",
      "_view_module_version": "1.2.0",
      "_view_name": "LayoutView",
      "align_content": null,
      "align_items": null,
      "align_self": null,
      "border": null,
      "bottom": null,
      "display": null,
      "flex": null,
      "flex_flow": null,
      "grid_area": null,
      "grid_auto_columns": null,
      "grid_auto_flow": null,
      "grid_auto_rows": null,
      "grid_column": null,
      "grid_gap": null,
      "grid_row": null,
      "grid_template_areas": null,
      "grid_template_columns": null,
      "grid_template_rows": null,
      "height": null,
      "justify_content": null,
      "justify_items": null,
      "left": null,
      "margin": null,
      "max_height": null,
      "max_width": null,
      "min_height": null,
      "min_width": null,
      "object_fit": null,
      "object_position": null,
      "order": null,
      "overflow": null,
      "overflow_x": null,
      "overflow_y": null,
      "padding": null,
      "right": null,
      "top": null,
      "visibility": null,
      "width": null
     }
    },
    "9391d266297c42888ac86227e7e01274": {
     "model_module": "@jupyter-widgets/controls",
     "model_module_version": "1.5.0",
     "model_name": "FloatProgressModel",
     "state": {
      "_dom_classes": [],
      "_model_module": "@jupyter-widgets/controls",
      "_model_module_version": "1.5.0",
      "_model_name": "FloatProgressModel",
      "_view_count": null,
      "_view_module": "@jupyter-widgets/controls",
      "_view_module_version": "1.5.0",
      "_view_name": "ProgressView",
      "bar_style": "success",
      "description": "",
      "description_tooltip": null,
      "layout": "IPY_MODEL_d33b593004dc4c8da3f2a289017d975a",
      "max": 1,
      "min": 0,
      "orientation": "horizontal",
      "style": "IPY_MODEL_46a0e1d4ec184ecba14169d142a1af67",
      "value": 1
     }
    },
    "93bffd82888b4c67b05dd43a81e52c53": {
     "model_module": "@jupyter-widgets/controls",
     "model_module_version": "1.5.0",
     "model_name": "HBoxModel",
     "state": {
      "_dom_classes": [],
      "_model_module": "@jupyter-widgets/controls",
      "_model_module_version": "1.5.0",
      "_model_name": "HBoxModel",
      "_view_count": null,
      "_view_module": "@jupyter-widgets/controls",
      "_view_module_version": "1.5.0",
      "_view_name": "HBoxView",
      "box_style": "",
      "children": [
       "IPY_MODEL_5397aa84c5834abeab404cd12955903e",
       "IPY_MODEL_9391d266297c42888ac86227e7e01274",
       "IPY_MODEL_773cc428f97f49059bd271eecf7ae41e"
      ],
      "layout": "IPY_MODEL_d3c964fc8d254c73b3683caa290b87ad"
     }
    },
    "9ecc7fd0c389469b983b7fa412543351": {
     "model_module": "@jupyter-widgets/controls",
     "model_module_version": "1.5.0",
     "model_name": "HTMLModel",
     "state": {
      "_dom_classes": [],
      "_model_module": "@jupyter-widgets/controls",
      "_model_module_version": "1.5.0",
      "_model_name": "HTMLModel",
      "_view_count": null,
      "_view_module": "@jupyter-widgets/controls",
      "_view_module_version": "1.5.0",
      "_view_name": "HTMLView",
      "description": "",
      "description_tooltip": null,
      "layout": "IPY_MODEL_76cfdd1ccdf64ccb95ee36ca5ae303e0",
      "placeholder": "​",
      "style": "IPY_MODEL_bae1529977c844bd95a85b8723aa4378",
      "value": " 111/111 [00:49&lt;00:00,  3.68it/s, Completed]"
     }
    },
    "a6af9250976a4eee862d81ee631d2623": {
     "model_module": "@jupyter-widgets/controls",
     "model_module_version": "1.5.0",
     "model_name": "DescriptionStyleModel",
     "state": {
      "_model_module": "@jupyter-widgets/controls",
      "_model_module_version": "1.5.0",
      "_model_name": "DescriptionStyleModel",
      "_view_count": null,
      "_view_module": "@jupyter-widgets/base",
      "_view_module_version": "1.2.0",
      "_view_name": "StyleView",
      "description_width": ""
     }
    },
    "a80d21e8668945db9b67040e879f4124": {
     "model_module": "@jupyter-widgets/controls",
     "model_module_version": "1.5.0",
     "model_name": "FloatProgressModel",
     "state": {
      "_dom_classes": [],
      "_model_module": "@jupyter-widgets/controls",
      "_model_module_version": "1.5.0",
      "_model_name": "FloatProgressModel",
      "_view_count": null,
      "_view_module": "@jupyter-widgets/controls",
      "_view_module_version": "1.5.0",
      "_view_name": "ProgressView",
      "bar_style": "success",
      "description": "",
      "description_tooltip": null,
      "layout": "IPY_MODEL_3c434036191a4a75a9bdda7daa8a370b",
      "max": 1,
      "min": 0,
      "orientation": "horizontal",
      "style": "IPY_MODEL_88299fd706914ca1b776f69613b7c986",
      "value": 1
     }
    },
    "ab0943e7b0174c38b84962eba777c4ff": {
     "model_module": "@jupyter-widgets/controls",
     "model_module_version": "1.5.0",
     "model_name": "ProgressStyleModel",
     "state": {
      "_model_module": "@jupyter-widgets/controls",
      "_model_module_version": "1.5.0",
      "_model_name": "ProgressStyleModel",
      "_view_count": null,
      "_view_module": "@jupyter-widgets/base",
      "_view_module_version": "1.2.0",
      "_view_name": "StyleView",
      "bar_color": null,
      "description_width": ""
     }
    },
    "b1b6dae8b2ba4d769479b55b1763bca7": {
     "model_module": "@jupyter-widgets/controls",
     "model_module_version": "1.5.0",
     "model_name": "HBoxModel",
     "state": {
      "_dom_classes": [],
      "_model_module": "@jupyter-widgets/controls",
      "_model_module_version": "1.5.0",
      "_model_name": "HBoxModel",
      "_view_count": null,
      "_view_module": "@jupyter-widgets/controls",
      "_view_module_version": "1.5.0",
      "_view_name": "HBoxView",
      "box_style": "",
      "children": [
       "IPY_MODEL_c76de87313b949a2a477d8c43a43fef4",
       "IPY_MODEL_232c914fb1dc4277b12bcbfb24f82408",
       "IPY_MODEL_9ecc7fd0c389469b983b7fa412543351"
      ],
      "layout": "IPY_MODEL_d680408c14fc440f8758fc5225f6bf75"
     }
    },
    "bae1529977c844bd95a85b8723aa4378": {
     "model_module": "@jupyter-widgets/controls",
     "model_module_version": "1.5.0",
     "model_name": "DescriptionStyleModel",
     "state": {
      "_model_module": "@jupyter-widgets/controls",
      "_model_module_version": "1.5.0",
      "_model_name": "DescriptionStyleModel",
      "_view_count": null,
      "_view_module": "@jupyter-widgets/base",
      "_view_module_version": "1.2.0",
      "_view_name": "StyleView",
      "description_width": ""
     }
    },
    "c53ab380083141bc9b53379bce6cfbaa": {
     "model_module": "@jupyter-widgets/controls",
     "model_module_version": "1.5.0",
     "model_name": "HTMLModel",
     "state": {
      "_dom_classes": [],
      "_model_module": "@jupyter-widgets/controls",
      "_model_module_version": "1.5.0",
      "_model_name": "HTMLModel",
      "_view_count": null,
      "_view_module": "@jupyter-widgets/controls",
      "_view_module_version": "1.5.0",
      "_view_name": "HTMLView",
      "description": "",
      "description_tooltip": null,
      "layout": "IPY_MODEL_024a9eba58a44fa29d7370fc532e713e",
      "placeholder": "​",
      "style": "IPY_MODEL_e322c00c81fa48ab955e684bcbd47f09",
      "value": " 1/1 [00:09&lt;00:00,  9.26s/it]"
     }
    },
    "c76de87313b949a2a477d8c43a43fef4": {
     "model_module": "@jupyter-widgets/controls",
     "model_module_version": "1.5.0",
     "model_name": "HTMLModel",
     "state": {
      "_dom_classes": [],
      "_model_module": "@jupyter-widgets/controls",
      "_model_module_version": "1.5.0",
      "_model_name": "HTMLModel",
      "_view_count": null,
      "_view_module": "@jupyter-widgets/controls",
      "_view_module_version": "1.5.0",
      "_view_name": "HTMLView",
      "description": "",
      "description_tooltip": null,
      "layout": "IPY_MODEL_136899abb8d047449c5616aaa4fdb1cc",
      "placeholder": "​",
      "style": "IPY_MODEL_a6af9250976a4eee862d81ee631d2623",
      "value": "Summarize dataset: 100%"
     }
    },
    "d33b593004dc4c8da3f2a289017d975a": {
     "model_module": "@jupyter-widgets/base",
     "model_module_version": "1.2.0",
     "model_name": "LayoutModel",
     "state": {
      "_model_module": "@jupyter-widgets/base",
      "_model_module_version": "1.2.0",
      "_model_name": "LayoutModel",
      "_view_count": null,
      "_view_module": "@jupyter-widgets/base",
      "_view_module_version": "1.2.0",
      "_view_name": "LayoutView",
      "align_content": null,
      "align_items": null,
      "align_self": null,
      "border": null,
      "bottom": null,
      "display": null,
      "flex": null,
      "flex_flow": null,
      "grid_area": null,
      "grid_auto_columns": null,
      "grid_auto_flow": null,
      "grid_auto_rows": null,
      "grid_column": null,
      "grid_gap": null,
      "grid_row": null,
      "grid_template_areas": null,
      "grid_template_columns": null,
      "grid_template_rows": null,
      "height": null,
      "justify_content": null,
      "justify_items": null,
      "left": null,
      "margin": null,
      "max_height": null,
      "max_width": null,
      "min_height": null,
      "min_width": null,
      "object_fit": null,
      "object_position": null,
      "order": null,
      "overflow": null,
      "overflow_x": null,
      "overflow_y": null,
      "padding": null,
      "right": null,
      "top": null,
      "visibility": null,
      "width": null
     }
    },
    "d3c964fc8d254c73b3683caa290b87ad": {
     "model_module": "@jupyter-widgets/base",
     "model_module_version": "1.2.0",
     "model_name": "LayoutModel",
     "state": {
      "_model_module": "@jupyter-widgets/base",
      "_model_module_version": "1.2.0",
      "_model_name": "LayoutModel",
      "_view_count": null,
      "_view_module": "@jupyter-widgets/base",
      "_view_module_version": "1.2.0",
      "_view_name": "LayoutView",
      "align_content": null,
      "align_items": null,
      "align_self": null,
      "border": null,
      "bottom": null,
      "display": null,
      "flex": null,
      "flex_flow": null,
      "grid_area": null,
      "grid_auto_columns": null,
      "grid_auto_flow": null,
      "grid_auto_rows": null,
      "grid_column": null,
      "grid_gap": null,
      "grid_row": null,
      "grid_template_areas": null,
      "grid_template_columns": null,
      "grid_template_rows": null,
      "height": null,
      "justify_content": null,
      "justify_items": null,
      "left": null,
      "margin": null,
      "max_height": null,
      "max_width": null,
      "min_height": null,
      "min_width": null,
      "object_fit": null,
      "object_position": null,
      "order": null,
      "overflow": null,
      "overflow_x": null,
      "overflow_y": null,
      "padding": null,
      "right": null,
      "top": null,
      "visibility": null,
      "width": null
     }
    },
    "d680408c14fc440f8758fc5225f6bf75": {
     "model_module": "@jupyter-widgets/base",
     "model_module_version": "1.2.0",
     "model_name": "LayoutModel",
     "state": {
      "_model_module": "@jupyter-widgets/base",
      "_model_module_version": "1.2.0",
      "_model_name": "LayoutModel",
      "_view_count": null,
      "_view_module": "@jupyter-widgets/base",
      "_view_module_version": "1.2.0",
      "_view_name": "LayoutView",
      "align_content": null,
      "align_items": null,
      "align_self": null,
      "border": null,
      "bottom": null,
      "display": null,
      "flex": null,
      "flex_flow": null,
      "grid_area": null,
      "grid_auto_columns": null,
      "grid_auto_flow": null,
      "grid_auto_rows": null,
      "grid_column": null,
      "grid_gap": null,
      "grid_row": null,
      "grid_template_areas": null,
      "grid_template_columns": null,
      "grid_template_rows": null,
      "height": null,
      "justify_content": null,
      "justify_items": null,
      "left": null,
      "margin": null,
      "max_height": null,
      "max_width": null,
      "min_height": null,
      "min_width": null,
      "object_fit": null,
      "object_position": null,
      "order": null,
      "overflow": null,
      "overflow_x": null,
      "overflow_y": null,
      "padding": null,
      "right": null,
      "top": null,
      "visibility": null,
      "width": null
     }
    },
    "da8359c146dd4b05af8c481306502277": {
     "model_module": "@jupyter-widgets/base",
     "model_module_version": "1.2.0",
     "model_name": "LayoutModel",
     "state": {
      "_model_module": "@jupyter-widgets/base",
      "_model_module_version": "1.2.0",
      "_model_name": "LayoutModel",
      "_view_count": null,
      "_view_module": "@jupyter-widgets/base",
      "_view_module_version": "1.2.0",
      "_view_name": "LayoutView",
      "align_content": null,
      "align_items": null,
      "align_self": null,
      "border": null,
      "bottom": null,
      "display": null,
      "flex": null,
      "flex_flow": null,
      "grid_area": null,
      "grid_auto_columns": null,
      "grid_auto_flow": null,
      "grid_auto_rows": null,
      "grid_column": null,
      "grid_gap": null,
      "grid_row": null,
      "grid_template_areas": null,
      "grid_template_columns": null,
      "grid_template_rows": null,
      "height": null,
      "justify_content": null,
      "justify_items": null,
      "left": null,
      "margin": null,
      "max_height": null,
      "max_width": null,
      "min_height": null,
      "min_width": null,
      "object_fit": null,
      "object_position": null,
      "order": null,
      "overflow": null,
      "overflow_x": null,
      "overflow_y": null,
      "padding": null,
      "right": null,
      "top": null,
      "visibility": null,
      "width": null
     }
    },
    "e322c00c81fa48ab955e684bcbd47f09": {
     "model_module": "@jupyter-widgets/controls",
     "model_module_version": "1.5.0",
     "model_name": "DescriptionStyleModel",
     "state": {
      "_model_module": "@jupyter-widgets/controls",
      "_model_module_version": "1.5.0",
      "_model_name": "DescriptionStyleModel",
      "_view_count": null,
      "_view_module": "@jupyter-widgets/base",
      "_view_module_version": "1.2.0",
      "_view_name": "StyleView",
      "description_width": ""
     }
    },
    "f4fda49d273c4564aade525b9b116ad8": {
     "model_module": "@jupyter-widgets/controls",
     "model_module_version": "1.5.0",
     "model_name": "HBoxModel",
     "state": {
      "_dom_classes": [],
      "_model_module": "@jupyter-widgets/controls",
      "_model_module_version": "1.5.0",
      "_model_name": "HBoxModel",
      "_view_count": null,
      "_view_module": "@jupyter-widgets/controls",
      "_view_module_version": "1.5.0",
      "_view_name": "HBoxView",
      "box_style": "",
      "children": [
       "IPY_MODEL_674fdf5f9b8742c391a518a102f0dc51",
       "IPY_MODEL_a80d21e8668945db9b67040e879f4124",
       "IPY_MODEL_c53ab380083141bc9b53379bce6cfbaa"
      ],
      "layout": "IPY_MODEL_227514f1d9d94b9996756fd6bbc86b4a"
     }
    }
   }
  }
 },
 "nbformat": 4,
 "nbformat_minor": 1
}
